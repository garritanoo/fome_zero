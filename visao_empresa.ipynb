{
 "cells": [
  {
   "cell_type": "markdown",
   "id": "38210577-2c14-4c3e-998a-a4398645a55a",
   "metadata": {},
   "source": [
    "\n",
    "# Projeto: Fome Zero\n",
    "\n",
    "Coleta dos dados: [Zomato Restaurants](https://www.kaggle.com/datasets/akashram/zomato-restaurants-autoupdated-dataset?resource=download&select=zomato.csv)"
   ]
  },
  {
   "cell_type": "markdown",
   "id": "910703c8-93c8-435b-9749-cee3a32f948c",
   "metadata": {
    "jp-MarkdownHeadingCollapsed": true,
    "tags": []
   },
   "source": [
    "### 0.Imports"
   ]
  },
  {
   "cell_type": "code",
   "execution_count": 17,
   "id": "482ef6cf-0b1b-42b7-a28b-ad1bd9c7b937",
   "metadata": {},
   "outputs": [],
   "source": [
    "import plotly.express as px\n",
    "import plotly.graph_objects as go\n",
    "import pandas as pd\n",
    "import streamlit as st\n",
    "import inflection\n",
    "import folium\n",
    "from folium.plugins import MarkerCluster\n",
    "from PIL import Image\n",
    "from streamlit_folium import folium_static\n",
    "\n",
    "# Converte um número cientifico para número decimal\n",
    "pd.set_option('display.float_format', lambda x: '%.f' % x)"
   ]
  },
  {
   "cell_type": "markdown",
   "id": "ceeb1271-9b07-4e49-befe-346552477fd9",
   "metadata": {
    "tags": []
   },
   "source": [
    "\n",
    "### 1. Funções\n"
   ]
  },
  {
   "cell_type": "code",
   "execution_count": 2,
   "id": "ad9dbfad-d619-485b-ad0f-c64b22d4fbeb",
   "metadata": {},
   "outputs": [],
   "source": [
    "def country_name(name):\n",
    "    \"\"\"Está função tem a responsabilidade de converter o número inteiro, correspondente a um país em uma string com o nome do país\n",
    "        \n",
    "        Tipo de conversão\n",
    "        1. Número inteiro -> String com nome do país\n",
    "        \n",
    "        return: nome do país\n",
    "    \"\"\"\n",
    "    \n",
    "    country_name = {\n",
    "        1: \"India\",\n",
    "        14: \"Australia\",\n",
    "        30: \"Brazil\",\n",
    "        37: \"Canada\",\n",
    "        94: \"Indonesia\",\n",
    "        148: \"New Zeland\",\n",
    "        162: \"Philippines\",\n",
    "        166: \"Qatar\",\n",
    "        184: \"Singapure\",\n",
    "        189: \"South Africa\",\n",
    "        191: \"Sri Lanka\",\n",
    "        208: \"Turkey\",\n",
    "        214: \"United Arab Emirates\",\n",
    "        215: \"England\",\n",
    "        216: \"United States of America\",\n",
    "    }\n",
    "    \n",
    "    return country_name[name]\n",
    "\n",
    "def price_type(price_range):\n",
    "    \"\"\"Está função tem a responsabilidade de converter um número inteiro a um correspondente nível de precificação\n",
    "        \n",
    "        Tipo de conversão\n",
    "        1. Número inteiro: 1, 2, 3 e 4\n",
    "        2. String derivada dos números: \n",
    "            1 = cheap\n",
    "            2 = normal\n",
    "            3 = expensive\n",
    "            4 = gourmet\n",
    "        \n",
    "        return: string com o nível de precificação\n",
    "    \"\"\"\n",
    "    \n",
    "    if price_range == 1:\n",
    "        return \"cheap\"\n",
    "    elif price_range == 2:\n",
    "        return \"normal\"\n",
    "    elif price_range == 3:\n",
    "        return \"expensive\"\n",
    "    else:\n",
    "        return \"gourmet\"\n",
    "\n",
    "def color_name(color_code):\n",
    "    '''Função que cria cores baseada em códigos hexadecimais\n",
    "    \n",
    "    return: cor referente a um código hexadecimal\n",
    "    '''   \n",
    "    \n",
    "    COLORS = {\n",
    "        \"3F7E00\": \"darkgreen\",\n",
    "        \"5BA829\": \"green\",\n",
    "        \"9ACD32\": \"lightgreen\",\n",
    "        \"CDD614\": \"orange\",\n",
    "        \"FFBA00\": \"red\",\n",
    "        \"CBCBC8\": \"darkred\",\n",
    "        \"FF7800\": \"darkred\",\n",
    "    }\n",
    "    \n",
    "    return COLORS[color_code]\n",
    "\n",
    "def clean_dataframe(df):\n",
    "    ''' Função que tem a responsabilidade de limpar o dataframe\n",
    "    \n",
    "        Tipos de limpeza:\n",
    "        1. Remoação de valores outliers\n",
    "        2. Remoção de valores nulos\n",
    "        3. Remocação de valores duplicados\n",
    "        4. Categorizar os valores da coluna cuisines com apenas um tipo de culinária\n",
    "        \n",
    "        return: um dataframe limpo baseado nos tipos descritos acima    \n",
    "    \n",
    "    '''\n",
    "    # Excluindo outlier do dataset\n",
    "    df = df.loc[df['Restaurant ID'] != 16608070, :]\n",
    "    \n",
    "    df = df.loc[df['Average Cost for two'] != 0, :]\n",
    "    \n",
    "    # Removendo valores nulos do dataset\n",
    "    df = df.loc[df['Cuisines'].notnull(), :]\n",
    "\n",
    "    # Excluindo dados duplicados do datatset\n",
    "    df = df.loc[:, :].drop_duplicates().reset_index(drop=True)\n",
    "\n",
    "    # Categorizando os restaurantes por um tipo de culinária\n",
    "    df['Cuisines'] = df.loc[:, 'Cuisines'].apply(lambda x: x.split(\",\")[0])\n",
    "    \n",
    "    return df\n",
    "    \n",
    "\n",
    "def rename_columns(dataframe):\n",
    "    '''Função que formata o nome das colunas    \n",
    "    \n",
    "        1. Recebe um dataframe\n",
    "        2. Localiza os títulos\n",
    "        3. Coloca os títulos em letras minúsculas\n",
    "        4. Remove os espaços\n",
    "        5. Insere um _ no lugar dos espaços\n",
    "        6 Transforma os títulos em uma lista\n",
    "        \n",
    "        return: um dataframe com o cabeçalho formatado \"texto_texto\"\n",
    "    '''\n",
    "    \n",
    "    df = dataframe.copy()\n",
    "    title = lambda x: inflection.titleize(x)\n",
    "    snakecase = lambda x: inflection.underscore(x)\n",
    "    spaces = lambda x: x.replace(\" \", \"\")\n",
    "    cols_old = list(df.columns)\n",
    "    cols_old = list(map(title, cols_old))\n",
    "    cols_old = list(map(spaces, cols_old))\n",
    "    cols_new = list(map(snakecase, cols_old))\n",
    "    df.columns = cols_new\n",
    "    \n",
    "    return df"
   ]
  },
  {
   "cell_type": "markdown",
   "id": "b2fe1447-ee7e-411d-b7df-a85d155f90f9",
   "metadata": {
    "jp-MarkdownHeadingCollapsed": true,
    "tags": []
   },
   "source": [
    "### 2. Carregando os dados"
   ]
  },
  {
   "cell_type": "code",
   "execution_count": 3,
   "id": "0652d93a-e6e1-40bc-ba34-70d690bbebdb",
   "metadata": {},
   "outputs": [],
   "source": [
    "df_raw = pd.read_csv('dataset/zomato.csv')"
   ]
  },
  {
   "cell_type": "markdown",
   "id": "63f436ca-f21d-4cce-a50e-7b2f87009de6",
   "metadata": {
    "jp-MarkdownHeadingCollapsed": true,
    "tags": []
   },
   "source": [
    "### 3. Limpando o dados"
   ]
  },
  {
   "cell_type": "code",
   "execution_count": 4,
   "id": "5dba1486-3f1c-47e6-b860-b9e3c2cec2b5",
   "metadata": {},
   "outputs": [],
   "source": [
    "# Formatando o nome das colunas e limpando o dataset\n",
    "df = rename_columns(clean_dataframe(df_raw))"
   ]
  },
  {
   "cell_type": "markdown",
   "id": "e11f461f-b16f-4770-96cd-ed4f492b2560",
   "metadata": {
    "jp-MarkdownHeadingCollapsed": true,
    "tags": []
   },
   "source": [
    "### 4. Criando colunas"
   ]
  },
  {
   "cell_type": "code",
   "execution_count": 5,
   "id": "d8f47868-9ad1-4812-986d-30ac31947a45",
   "metadata": {},
   "outputs": [],
   "source": [
    "# Criando a coluna price_type de acordo com a coluna price_range\n",
    "df['price_type'] = df['price_range'].apply(lambda x: price_type(x))\n",
    "\n",
    "# Criando a coluna color name de acordo com a coluna rating_color\n",
    "df['color_name'] = df['rating_color'].apply(lambda x: color_name(x))\n",
    "\n",
    "# Criando a coluna country_name baseada na coluna country_code\n",
    "df['country_name'] = df['country_code'].apply(lambda x: country_name(x))\n",
    "\n",
    "# Criando a coluna price_in_dollar baseada nas colunas currency e average_cost_for_two\n",
    "df['price_in_dollar'] = df[['currency', 'average_cost_for_two']].apply( lambda x: ( x['average_cost_for_two'] / 12.85  ) if x['currency'] == 'Botswana Pula(P)'  else\n",
    "                                                                                      ( x['average_cost_for_two'] / 5.31  ) if x['currency'] == 'Brazilian Real(R$)' else\n",
    "                                                                                      ( x['average_cost_for_two'] / 1  ) if x['currency'] == 'Dollar($)' else\n",
    "                                                                                      ( x['average_cost_for_two'] / 3.67  ) if x['currency'] == 'Emirati Diram(AED)' else\n",
    "                                                                                      ( x['average_cost_for_two'] / 82.68  ) if x['currency'] == 'Indian Rupees(Rs.)' else\n",
    "                                                                                      ( x['average_cost_for_two'] / 15608.45  ) if x['currency'] == 'Indonesian Rupiah(IDR)' else\n",
    "                                                                                      ( x['average_cost_for_two'] / 1.57  ) if x['currency'] == 'NewZealand($)' else\n",
    "                                                                                      ( x['average_cost_for_two'] / 0.819257  ) if x['currency'] == 'Pounds(£)' else\n",
    "                                                                                      ( x['average_cost_for_two'] / 3.64  ) if x['currency'] == 'Qatari Rial(QR)' else\n",
    "                                                                                      ( x['average_cost_for_two'] / 17.59  ) if x['currency'] == 'Rand(R)' else\n",
    "                                                                                      ( x['average_cost_for_two'] / 366.86  ) if x['currency'] == 'Sri Lankan Rupee(LKR)' else\n",
    "                                                                                      ( x['average_cost_for_two'] / 18.65  ) if x['currency'] == 'Turkish Lira(TL)' else 0, axis=1 )"
   ]
  },
  {
   "cell_type": "markdown",
   "id": "3ba7369e-e54b-4ec2-82e7-36fbbbe471f4",
   "metadata": {
    "jp-MarkdownHeadingCollapsed": true,
    "tags": []
   },
   "source": [
    "## 3. Visão Geral"
   ]
  },
  {
   "cell_type": "code",
   "execution_count": 19,
   "id": "1e4d7a55-f861-4613-a317-766844d91c9b",
   "metadata": {},
   "outputs": [],
   "source": [
    "df_save = df.to_csv('data.csv', index=False, enconding='UTF-8')"
   ]
  },
  {
   "cell_type": "code",
   "execution_count": 15,
   "id": "17013f32-e520-4afd-9b46-4ce5de3035a9",
   "metadata": {},
   "outputs": [
    {
     "data": {
      "text/plain": [
       "array(['Australia', 'Brazil', 'Canada', 'England', 'India', 'Indonesia',\n",
       "       'New Zeland', 'Philippines', 'Qatar', 'Singapure', 'South Africa',\n",
       "       'Sri Lanka', 'Turkey', 'United Arab Emirates',\n",
       "       'United States of America'], dtype=object)"
      ]
     },
     "execution_count": 15,
     "metadata": {},
     "output_type": "execute_result"
    }
   ],
   "source": [
    "df.loc[:, 'country_name'].sort_values().unique()"
   ]
  },
  {
   "cell_type": "markdown",
   "id": "4bca9bae-0aaa-42c9-bb6a-b68e735d9d0a",
   "metadata": {
    "tags": []
   },
   "source": [
    "### 1. Quantos restaurantes únicos estão registrados?"
   ]
  },
  {
   "cell_type": "code",
   "execution_count": 21,
   "id": "8b659022-2fe3-4ba9-8441-52c5898bceda",
   "metadata": {},
   "outputs": [
    {
     "name": "stdout",
     "output_type": "stream",
     "text": [
      "A quantidade de restaurantes únicos na base dados é: 6878\n"
     ]
    }
   ],
   "source": [
    "# Selecionar a coluna com o id restaurantes e calcular a quantidade\n",
    "restaurant_unique = df.loc[:, 'restaurant_id'].count()\n",
    "print(f'A quantidade de restaurantes únicos na base dados é: {restaurant_unique}')"
   ]
  },
  {
   "cell_type": "markdown",
   "id": "02074e04-3686-44d3-8633-fb80e5c303f2",
   "metadata": {
    "tags": []
   },
   "source": [
    "### 2. Quantos países únicos estão registrados?"
   ]
  },
  {
   "cell_type": "code",
   "execution_count": 22,
   "id": "ad07f8d6-f55b-4b4f-af47-a2d5f0e0cb0c",
   "metadata": {},
   "outputs": [
    {
     "name": "stdout",
     "output_type": "stream",
     "text": [
      "A quantidade de países únicos registrados na base de dados é: 15\n"
     ]
    }
   ],
   "source": [
    "# Selecionar a coluna com o código do país e calcular a quantidade \n",
    "country_unique = df.loc[:, 'country_code'].nunique()\n",
    "print(f'A quantidade de países únicos registrados na base de dados é: {country_unique}')"
   ]
  },
  {
   "cell_type": "markdown",
   "id": "13f1745f-de6b-41fb-bd4e-45f6eab82400",
   "metadata": {
    "tags": []
   },
   "source": [
    "### 3. Quantas cidades únicas estão registradas?"
   ]
  },
  {
   "cell_type": "code",
   "execution_count": 23,
   "id": "01245e05-483f-42b6-b614-30d67d0696b1",
   "metadata": {},
   "outputs": [
    {
     "name": "stdout",
     "output_type": "stream",
     "text": [
      "A quantidade de cidades únicas registradas na base de dados é: 125\n"
     ]
    }
   ],
   "source": [
    "# Selecionar a coluna com as cidades e calcular a quantidade\n",
    "city_unique = df.loc[:, 'city'].nunique()\n",
    "print(f'A quantidade de cidades únicas registradas na base de dados é: {city_unique}')"
   ]
  },
  {
   "cell_type": "markdown",
   "id": "d78c93a2-96e2-4f34-bc33-3f7e64df9e9f",
   "metadata": {
    "tags": []
   },
   "source": [
    "### 4. Qual o total de avaliações feitas?"
   ]
  },
  {
   "cell_type": "code",
   "execution_count": 24,
   "id": "aefdd367-f5c4-43cb-b7c2-4ae4c0ad1a8c",
   "metadata": {},
   "outputs": [
    {
     "name": "stdout",
     "output_type": "stream",
     "text": [
      "O total de avaliações registradas na base de dados é: 4188309\n"
     ]
    }
   ],
   "source": [
    "# Selecionar a coluna com as avaliações e somar o total de avaliações\n",
    "votes_total = df.loc[:, 'votes'].sum()\n",
    "print(f'O total de avaliações registradas na base de dados é: {votes_total}')"
   ]
  },
  {
   "cell_type": "markdown",
   "id": "c6f0588b-7c44-43c4-bafc-8ed069b5abab",
   "metadata": {
    "tags": []
   },
   "source": [
    "### 5. Qual o total de tipos de culinária registrados?"
   ]
  },
  {
   "cell_type": "code",
   "execution_count": 25,
   "id": "c7d08a47-f81b-4403-81eb-4359e523d066",
   "metadata": {},
   "outputs": [
    {
     "name": "stdout",
     "output_type": "stream",
     "text": [
      "O total de tipos culinários registrados na base de dados é: 164\n"
     ]
    }
   ],
   "source": [
    "# Selecionar a coluna de culinária e contar a quantidade total\n",
    "cuisine_total = df.loc[:, 'cuisines'].nunique()\n",
    "print(f'O total de tipos culinários registrados na base de dados é: {cuisine_total}')"
   ]
  },
  {
   "cell_type": "markdown",
   "id": "6b6f81ec-19b0-4c27-bb35-4ce40aedb869",
   "metadata": {
    "jp-MarkdownHeadingCollapsed": true,
    "tags": []
   },
   "source": [
    "## 4. Visão País"
   ]
  },
  {
   "cell_type": "markdown",
   "id": "990e3eb9-6289-40cf-94e9-e43fe923c581",
   "metadata": {
    "jp-MarkdownHeadingCollapsed": true,
    "tags": []
   },
   "source": [
    "### 1. Qual o nome do país que possui mais cidades registradas?"
   ]
  },
  {
   "cell_type": "code",
   "execution_count": 38,
   "id": "ee0eaf3a-7f55-4f82-b565-d8b916993171",
   "metadata": {},
   "outputs": [
    {
     "data": {
      "text/html": [
       "<div>\n",
       "<style scoped>\n",
       "    .dataframe tbody tr th:only-of-type {\n",
       "        vertical-align: middle;\n",
       "    }\n",
       "\n",
       "    .dataframe tbody tr th {\n",
       "        vertical-align: top;\n",
       "    }\n",
       "\n",
       "    .dataframe thead th {\n",
       "        text-align: right;\n",
       "    }\n",
       "</style>\n",
       "<table border=\"1\" class=\"dataframe\">\n",
       "  <thead>\n",
       "    <tr style=\"text-align: right;\">\n",
       "      <th></th>\n",
       "      <th>country_name</th>\n",
       "      <th>city</th>\n",
       "    </tr>\n",
       "  </thead>\n",
       "  <tbody>\n",
       "    <tr>\n",
       "      <th>4</th>\n",
       "      <td>India</td>\n",
       "      <td>49</td>\n",
       "    </tr>\n",
       "    <tr>\n",
       "      <th>14</th>\n",
       "      <td>United States of America</td>\n",
       "      <td>22</td>\n",
       "    </tr>\n",
       "    <tr>\n",
       "      <th>7</th>\n",
       "      <td>Philippines</td>\n",
       "      <td>12</td>\n",
       "    </tr>\n",
       "    <tr>\n",
       "      <th>10</th>\n",
       "      <td>South Africa</td>\n",
       "      <td>12</td>\n",
       "    </tr>\n",
       "    <tr>\n",
       "      <th>3</th>\n",
       "      <td>England</td>\n",
       "      <td>5</td>\n",
       "    </tr>\n",
       "    <tr>\n",
       "      <th>6</th>\n",
       "      <td>New Zeland</td>\n",
       "      <td>4</td>\n",
       "    </tr>\n",
       "    <tr>\n",
       "      <th>13</th>\n",
       "      <td>United Arab Emirates</td>\n",
       "      <td>4</td>\n",
       "    </tr>\n",
       "    <tr>\n",
       "      <th>0</th>\n",
       "      <td>Australia</td>\n",
       "      <td>3</td>\n",
       "    </tr>\n",
       "    <tr>\n",
       "      <th>1</th>\n",
       "      <td>Brazil</td>\n",
       "      <td>3</td>\n",
       "    </tr>\n",
       "    <tr>\n",
       "      <th>2</th>\n",
       "      <td>Canada</td>\n",
       "      <td>3</td>\n",
       "    </tr>\n",
       "    <tr>\n",
       "      <th>5</th>\n",
       "      <td>Indonesia</td>\n",
       "      <td>3</td>\n",
       "    </tr>\n",
       "    <tr>\n",
       "      <th>12</th>\n",
       "      <td>Turkey</td>\n",
       "      <td>2</td>\n",
       "    </tr>\n",
       "    <tr>\n",
       "      <th>8</th>\n",
       "      <td>Qatar</td>\n",
       "      <td>1</td>\n",
       "    </tr>\n",
       "    <tr>\n",
       "      <th>9</th>\n",
       "      <td>Singapure</td>\n",
       "      <td>1</td>\n",
       "    </tr>\n",
       "    <tr>\n",
       "      <th>11</th>\n",
       "      <td>Sri Lanka</td>\n",
       "      <td>1</td>\n",
       "    </tr>\n",
       "  </tbody>\n",
       "</table>\n",
       "</div>"
      ],
      "text/plain": [
       "                country_name  city\n",
       "4                      India    49\n",
       "14  United States of America    22\n",
       "7                Philippines    12\n",
       "10              South Africa    12\n",
       "3                    England     5\n",
       "6                 New Zeland     4\n",
       "13      United Arab Emirates     4\n",
       "0                  Australia     3\n",
       "1                     Brazil     3\n",
       "2                     Canada     3\n",
       "5                  Indonesia     3\n",
       "12                    Turkey     2\n",
       "8                      Qatar     1\n",
       "9                  Singapure     1\n",
       "11                 Sri Lanka     1"
      ]
     },
     "execution_count": 38,
     "metadata": {},
     "output_type": "execute_result"
    }
   ],
   "source": [
    "# Selecionar as colunas pais e cidade e agrupar por cidade\n",
    "df_country = df.loc[:, ['country_name', 'city']].groupby('country_name').nunique().reset_index().sort_values(by='city', ascending=False)\n",
    "df_country"
   ]
  },
  {
   "cell_type": "code",
   "execution_count": 47,
   "id": "2fa00d6f-7b3d-43e5-9695-df364015832c",
   "metadata": {},
   "outputs": [
    {
     "data": {
      "application/vnd.plotly.v1+json": {
       "config": {
        "plotlyServerURL": "https://plot.ly"
       },
       "data": [
        {
         "alignmentgroup": "True",
         "hovertemplate": "country_name=%{x}<br>city=%{y}<extra></extra>",
         "legendgroup": "",
         "marker": {
          "color": "#636efa",
          "pattern": {
           "shape": ""
          }
         },
         "name": "",
         "offsetgroup": "",
         "orientation": "v",
         "showlegend": false,
         "textposition": "auto",
         "type": "bar",
         "x": [
          "India",
          "United States of America",
          "Philippines",
          "South Africa",
          "England",
          "New Zeland",
          "United Arab Emirates",
          "Australia",
          "Brazil",
          "Canada",
          "Indonesia",
          "Turkey",
          "Qatar",
          "Singapure",
          "Sri Lanka"
         ],
         "xaxis": "x",
         "y": [
          49,
          22,
          12,
          12,
          5,
          4,
          4,
          3,
          3,
          3,
          3,
          2,
          1,
          1,
          1
         ],
         "yaxis": "y"
        }
       ],
       "layout": {
        "autosize": true,
        "barmode": "relative",
        "legend": {
         "tracegroupgap": 0
        },
        "margin": {
         "t": 60
        },
        "template": {
         "data": {
          "bar": [
           {
            "error_x": {
             "color": "#2a3f5f"
            },
            "error_y": {
             "color": "#2a3f5f"
            },
            "marker": {
             "line": {
              "color": "#E5ECF6",
              "width": 0.5
             },
             "pattern": {
              "fillmode": "overlay",
              "size": 10,
              "solidity": 0.2
             }
            },
            "type": "bar"
           }
          ],
          "barpolar": [
           {
            "marker": {
             "line": {
              "color": "#E5ECF6",
              "width": 0.5
             },
             "pattern": {
              "fillmode": "overlay",
              "size": 10,
              "solidity": 0.2
             }
            },
            "type": "barpolar"
           }
          ],
          "carpet": [
           {
            "aaxis": {
             "endlinecolor": "#2a3f5f",
             "gridcolor": "white",
             "linecolor": "white",
             "minorgridcolor": "white",
             "startlinecolor": "#2a3f5f"
            },
            "baxis": {
             "endlinecolor": "#2a3f5f",
             "gridcolor": "white",
             "linecolor": "white",
             "minorgridcolor": "white",
             "startlinecolor": "#2a3f5f"
            },
            "type": "carpet"
           }
          ],
          "choropleth": [
           {
            "colorbar": {
             "outlinewidth": 0,
             "ticks": ""
            },
            "type": "choropleth"
           }
          ],
          "contour": [
           {
            "colorbar": {
             "outlinewidth": 0,
             "ticks": ""
            },
            "colorscale": [
             [
              0,
              "#0d0887"
             ],
             [
              0.1111111111111111,
              "#46039f"
             ],
             [
              0.2222222222222222,
              "#7201a8"
             ],
             [
              0.3333333333333333,
              "#9c179e"
             ],
             [
              0.4444444444444444,
              "#bd3786"
             ],
             [
              0.5555555555555556,
              "#d8576b"
             ],
             [
              0.6666666666666666,
              "#ed7953"
             ],
             [
              0.7777777777777778,
              "#fb9f3a"
             ],
             [
              0.8888888888888888,
              "#fdca26"
             ],
             [
              1,
              "#f0f921"
             ]
            ],
            "type": "contour"
           }
          ],
          "contourcarpet": [
           {
            "colorbar": {
             "outlinewidth": 0,
             "ticks": ""
            },
            "type": "contourcarpet"
           }
          ],
          "heatmap": [
           {
            "colorbar": {
             "outlinewidth": 0,
             "ticks": ""
            },
            "colorscale": [
             [
              0,
              "#0d0887"
             ],
             [
              0.1111111111111111,
              "#46039f"
             ],
             [
              0.2222222222222222,
              "#7201a8"
             ],
             [
              0.3333333333333333,
              "#9c179e"
             ],
             [
              0.4444444444444444,
              "#bd3786"
             ],
             [
              0.5555555555555556,
              "#d8576b"
             ],
             [
              0.6666666666666666,
              "#ed7953"
             ],
             [
              0.7777777777777778,
              "#fb9f3a"
             ],
             [
              0.8888888888888888,
              "#fdca26"
             ],
             [
              1,
              "#f0f921"
             ]
            ],
            "type": "heatmap"
           }
          ],
          "heatmapgl": [
           {
            "colorbar": {
             "outlinewidth": 0,
             "ticks": ""
            },
            "colorscale": [
             [
              0,
              "#0d0887"
             ],
             [
              0.1111111111111111,
              "#46039f"
             ],
             [
              0.2222222222222222,
              "#7201a8"
             ],
             [
              0.3333333333333333,
              "#9c179e"
             ],
             [
              0.4444444444444444,
              "#bd3786"
             ],
             [
              0.5555555555555556,
              "#d8576b"
             ],
             [
              0.6666666666666666,
              "#ed7953"
             ],
             [
              0.7777777777777778,
              "#fb9f3a"
             ],
             [
              0.8888888888888888,
              "#fdca26"
             ],
             [
              1,
              "#f0f921"
             ]
            ],
            "type": "heatmapgl"
           }
          ],
          "histogram": [
           {
            "marker": {
             "pattern": {
              "fillmode": "overlay",
              "size": 10,
              "solidity": 0.2
             }
            },
            "type": "histogram"
           }
          ],
          "histogram2d": [
           {
            "colorbar": {
             "outlinewidth": 0,
             "ticks": ""
            },
            "colorscale": [
             [
              0,
              "#0d0887"
             ],
             [
              0.1111111111111111,
              "#46039f"
             ],
             [
              0.2222222222222222,
              "#7201a8"
             ],
             [
              0.3333333333333333,
              "#9c179e"
             ],
             [
              0.4444444444444444,
              "#bd3786"
             ],
             [
              0.5555555555555556,
              "#d8576b"
             ],
             [
              0.6666666666666666,
              "#ed7953"
             ],
             [
              0.7777777777777778,
              "#fb9f3a"
             ],
             [
              0.8888888888888888,
              "#fdca26"
             ],
             [
              1,
              "#f0f921"
             ]
            ],
            "type": "histogram2d"
           }
          ],
          "histogram2dcontour": [
           {
            "colorbar": {
             "outlinewidth": 0,
             "ticks": ""
            },
            "colorscale": [
             [
              0,
              "#0d0887"
             ],
             [
              0.1111111111111111,
              "#46039f"
             ],
             [
              0.2222222222222222,
              "#7201a8"
             ],
             [
              0.3333333333333333,
              "#9c179e"
             ],
             [
              0.4444444444444444,
              "#bd3786"
             ],
             [
              0.5555555555555556,
              "#d8576b"
             ],
             [
              0.6666666666666666,
              "#ed7953"
             ],
             [
              0.7777777777777778,
              "#fb9f3a"
             ],
             [
              0.8888888888888888,
              "#fdca26"
             ],
             [
              1,
              "#f0f921"
             ]
            ],
            "type": "histogram2dcontour"
           }
          ],
          "mesh3d": [
           {
            "colorbar": {
             "outlinewidth": 0,
             "ticks": ""
            },
            "type": "mesh3d"
           }
          ],
          "parcoords": [
           {
            "line": {
             "colorbar": {
              "outlinewidth": 0,
              "ticks": ""
             }
            },
            "type": "parcoords"
           }
          ],
          "pie": [
           {
            "automargin": true,
            "type": "pie"
           }
          ],
          "scatter": [
           {
            "fillpattern": {
             "fillmode": "overlay",
             "size": 10,
             "solidity": 0.2
            },
            "type": "scatter"
           }
          ],
          "scatter3d": [
           {
            "line": {
             "colorbar": {
              "outlinewidth": 0,
              "ticks": ""
             }
            },
            "marker": {
             "colorbar": {
              "outlinewidth": 0,
              "ticks": ""
             }
            },
            "type": "scatter3d"
           }
          ],
          "scattercarpet": [
           {
            "marker": {
             "colorbar": {
              "outlinewidth": 0,
              "ticks": ""
             }
            },
            "type": "scattercarpet"
           }
          ],
          "scattergeo": [
           {
            "marker": {
             "colorbar": {
              "outlinewidth": 0,
              "ticks": ""
             }
            },
            "type": "scattergeo"
           }
          ],
          "scattergl": [
           {
            "marker": {
             "colorbar": {
              "outlinewidth": 0,
              "ticks": ""
             }
            },
            "type": "scattergl"
           }
          ],
          "scattermapbox": [
           {
            "marker": {
             "colorbar": {
              "outlinewidth": 0,
              "ticks": ""
             }
            },
            "type": "scattermapbox"
           }
          ],
          "scatterpolar": [
           {
            "marker": {
             "colorbar": {
              "outlinewidth": 0,
              "ticks": ""
             }
            },
            "type": "scatterpolar"
           }
          ],
          "scatterpolargl": [
           {
            "marker": {
             "colorbar": {
              "outlinewidth": 0,
              "ticks": ""
             }
            },
            "type": "scatterpolargl"
           }
          ],
          "scatterternary": [
           {
            "marker": {
             "colorbar": {
              "outlinewidth": 0,
              "ticks": ""
             }
            },
            "type": "scatterternary"
           }
          ],
          "surface": [
           {
            "colorbar": {
             "outlinewidth": 0,
             "ticks": ""
            },
            "colorscale": [
             [
              0,
              "#0d0887"
             ],
             [
              0.1111111111111111,
              "#46039f"
             ],
             [
              0.2222222222222222,
              "#7201a8"
             ],
             [
              0.3333333333333333,
              "#9c179e"
             ],
             [
              0.4444444444444444,
              "#bd3786"
             ],
             [
              0.5555555555555556,
              "#d8576b"
             ],
             [
              0.6666666666666666,
              "#ed7953"
             ],
             [
              0.7777777777777778,
              "#fb9f3a"
             ],
             [
              0.8888888888888888,
              "#fdca26"
             ],
             [
              1,
              "#f0f921"
             ]
            ],
            "type": "surface"
           }
          ],
          "table": [
           {
            "cells": {
             "fill": {
              "color": "#EBF0F8"
             },
             "line": {
              "color": "white"
             }
            },
            "header": {
             "fill": {
              "color": "#C8D4E3"
             },
             "line": {
              "color": "white"
             }
            },
            "type": "table"
           }
          ]
         },
         "layout": {
          "annotationdefaults": {
           "arrowcolor": "#2a3f5f",
           "arrowhead": 0,
           "arrowwidth": 1
          },
          "autotypenumbers": "strict",
          "coloraxis": {
           "colorbar": {
            "outlinewidth": 0,
            "ticks": ""
           }
          },
          "colorscale": {
           "diverging": [
            [
             0,
             "#8e0152"
            ],
            [
             0.1,
             "#c51b7d"
            ],
            [
             0.2,
             "#de77ae"
            ],
            [
             0.3,
             "#f1b6da"
            ],
            [
             0.4,
             "#fde0ef"
            ],
            [
             0.5,
             "#f7f7f7"
            ],
            [
             0.6,
             "#e6f5d0"
            ],
            [
             0.7,
             "#b8e186"
            ],
            [
             0.8,
             "#7fbc41"
            ],
            [
             0.9,
             "#4d9221"
            ],
            [
             1,
             "#276419"
            ]
           ],
           "sequential": [
            [
             0,
             "#0d0887"
            ],
            [
             0.1111111111111111,
             "#46039f"
            ],
            [
             0.2222222222222222,
             "#7201a8"
            ],
            [
             0.3333333333333333,
             "#9c179e"
            ],
            [
             0.4444444444444444,
             "#bd3786"
            ],
            [
             0.5555555555555556,
             "#d8576b"
            ],
            [
             0.6666666666666666,
             "#ed7953"
            ],
            [
             0.7777777777777778,
             "#fb9f3a"
            ],
            [
             0.8888888888888888,
             "#fdca26"
            ],
            [
             1,
             "#f0f921"
            ]
           ],
           "sequentialminus": [
            [
             0,
             "#0d0887"
            ],
            [
             0.1111111111111111,
             "#46039f"
            ],
            [
             0.2222222222222222,
             "#7201a8"
            ],
            [
             0.3333333333333333,
             "#9c179e"
            ],
            [
             0.4444444444444444,
             "#bd3786"
            ],
            [
             0.5555555555555556,
             "#d8576b"
            ],
            [
             0.6666666666666666,
             "#ed7953"
            ],
            [
             0.7777777777777778,
             "#fb9f3a"
            ],
            [
             0.8888888888888888,
             "#fdca26"
            ],
            [
             1,
             "#f0f921"
            ]
           ]
          },
          "colorway": [
           "#636efa",
           "#EF553B",
           "#00cc96",
           "#ab63fa",
           "#FFA15A",
           "#19d3f3",
           "#FF6692",
           "#B6E880",
           "#FF97FF",
           "#FECB52"
          ],
          "font": {
           "color": "#2a3f5f"
          },
          "geo": {
           "bgcolor": "white",
           "lakecolor": "white",
           "landcolor": "#E5ECF6",
           "showlakes": true,
           "showland": true,
           "subunitcolor": "white"
          },
          "hoverlabel": {
           "align": "left"
          },
          "hovermode": "closest",
          "mapbox": {
           "style": "light"
          },
          "paper_bgcolor": "white",
          "plot_bgcolor": "#E5ECF6",
          "polar": {
           "angularaxis": {
            "gridcolor": "white",
            "linecolor": "white",
            "ticks": ""
           },
           "bgcolor": "#E5ECF6",
           "radialaxis": {
            "gridcolor": "white",
            "linecolor": "white",
            "ticks": ""
           }
          },
          "scene": {
           "xaxis": {
            "backgroundcolor": "#E5ECF6",
            "gridcolor": "white",
            "gridwidth": 2,
            "linecolor": "white",
            "showbackground": true,
            "ticks": "",
            "zerolinecolor": "white"
           },
           "yaxis": {
            "backgroundcolor": "#E5ECF6",
            "gridcolor": "white",
            "gridwidth": 2,
            "linecolor": "white",
            "showbackground": true,
            "ticks": "",
            "zerolinecolor": "white"
           },
           "zaxis": {
            "backgroundcolor": "#E5ECF6",
            "gridcolor": "white",
            "gridwidth": 2,
            "linecolor": "white",
            "showbackground": true,
            "ticks": "",
            "zerolinecolor": "white"
           }
          },
          "shapedefaults": {
           "line": {
            "color": "#2a3f5f"
           }
          },
          "ternary": {
           "aaxis": {
            "gridcolor": "white",
            "linecolor": "white",
            "ticks": ""
           },
           "baxis": {
            "gridcolor": "white",
            "linecolor": "white",
            "ticks": ""
           },
           "bgcolor": "#E5ECF6",
           "caxis": {
            "gridcolor": "white",
            "linecolor": "white",
            "ticks": ""
           }
          },
          "title": {
           "x": 0.05
          },
          "xaxis": {
           "automargin": true,
           "gridcolor": "white",
           "linecolor": "white",
           "ticks": "",
           "title": {
            "standoff": 15
           },
           "zerolinecolor": "white",
           "zerolinewidth": 2
          },
          "yaxis": {
           "automargin": true,
           "gridcolor": "white",
           "linecolor": "white",
           "ticks": "",
           "title": {
            "standoff": 15
           },
           "zerolinecolor": "white",
           "zerolinewidth": 2
          }
         }
        },
        "xaxis": {
         "anchor": "y",
         "autorange": true,
         "domain": [
          0,
          1
         ],
         "range": [
          -0.5,
          14.5
         ],
         "title": {
          "text": "country_name"
         },
         "type": "category"
        },
        "yaxis": {
         "anchor": "x",
         "autorange": true,
         "domain": [
          0,
          1
         ],
         "range": [
          0,
          51.578947368421055
         ],
         "title": {
          "text": "city"
         },
         "type": "linear"
        }
       }
      },
      "image/png": "[encoded data removed]",
      "text/html": [
       "<div>                            <div id=\"140b9bce-dfad-404e-8280-789f53d7cc35\" class=\"plotly-graph-div\" style=\"height:525px; width:100%;\"></div>            <script type=\"text/javascript\">                require([\"plotly\"], function(Plotly) {                    window.PLOTLYENV=window.PLOTLYENV || {};                                    if (document.getElementById(\"140b9bce-dfad-404e-8280-789f53d7cc35\")) {                    Plotly.newPlot(                        \"140b9bce-dfad-404e-8280-789f53d7cc35\",                        [{\"alignmentgroup\":\"True\",\"hovertemplate\":\"country_name=%{x}<br>city=%{y}<extra></extra>\",\"legendgroup\":\"\",\"marker\":{\"color\":\"#636efa\",\"pattern\":{\"shape\":\"\"}},\"name\":\"\",\"offsetgroup\":\"\",\"orientation\":\"v\",\"showlegend\":false,\"textposition\":\"auto\",\"x\":[\"India\",\"United States of America\",\"Philippines\",\"South Africa\",\"England\",\"New Zeland\",\"United Arab Emirates\",\"Australia\",\"Brazil\",\"Canada\",\"Indonesia\",\"Turkey\",\"Qatar\",\"Singapure\",\"Sri Lanka\"],\"xaxis\":\"x\",\"y\":[49,22,12,12,5,4,4,3,3,3,3,2,1,1,1],\"yaxis\":\"y\",\"type\":\"bar\"}],                        {\"template\":{\"data\":{\"histogram2dcontour\":[{\"type\":\"histogram2dcontour\",\"colorbar\":{\"outlinewidth\":0,\"ticks\":\"\"},\"colorscale\":[[0.0,\"#0d0887\"],[0.1111111111111111,\"#46039f\"],[0.2222222222222222,\"#7201a8\"],[0.3333333333333333,\"#9c179e\"],[0.4444444444444444,\"#bd3786\"],[0.5555555555555556,\"#d8576b\"],[0.6666666666666666,\"#ed7953\"],[0.7777777777777778,\"#fb9f3a\"],[0.8888888888888888,\"#fdca26\"],[1.0,\"#f0f921\"]]}],\"choropleth\":[{\"type\":\"choropleth\",\"colorbar\":{\"outlinewidth\":0,\"ticks\":\"\"}}],\"histogram2d\":[{\"type\":\"histogram2d\",\"colorbar\":{\"outlinewidth\":0,\"ticks\":\"\"},\"colorscale\":[[0.0,\"#0d0887\"],[0.1111111111111111,\"#46039f\"],[0.2222222222222222,\"#7201a8\"],[0.3333333333333333,\"#9c179e\"],[0.4444444444444444,\"#bd3786\"],[0.5555555555555556,\"#d8576b\"],[0.6666666666666666,\"#ed7953\"],[0.7777777777777778,\"#fb9f3a\"],[0.8888888888888888,\"#fdca26\"],[1.0,\"#f0f921\"]]}],\"heatmap\":[{\"type\":\"heatmap\",\"colorbar\":{\"outlinewidth\":0,\"ticks\":\"\"},\"colorscale\":[[0.0,\"#0d0887\"],[0.1111111111111111,\"#46039f\"],[0.2222222222222222,\"#7201a8\"],[0.3333333333333333,\"#9c179e\"],[0.4444444444444444,\"#bd3786\"],[0.5555555555555556,\"#d8576b\"],[0.6666666666666666,\"#ed7953\"],[0.7777777777777778,\"#fb9f3a\"],[0.8888888888888888,\"#fdca26\"],[1.0,\"#f0f921\"]]}],\"heatmapgl\":[{\"type\":\"heatmapgl\",\"colorbar\":{\"outlinewidth\":0,\"ticks\":\"\"},\"colorscale\":[[0.0,\"#0d0887\"],[0.1111111111111111,\"#46039f\"],[0.2222222222222222,\"#7201a8\"],[0.3333333333333333,\"#9c179e\"],[0.4444444444444444,\"#bd3786\"],[0.5555555555555556,\"#d8576b\"],[0.6666666666666666,\"#ed7953\"],[0.7777777777777778,\"#fb9f3a\"],[0.8888888888888888,\"#fdca26\"],[1.0,\"#f0f921\"]]}],\"contourcarpet\":[{\"type\":\"contourcarpet\",\"colorbar\":{\"outlinewidth\":0,\"ticks\":\"\"}}],\"contour\":[{\"type\":\"contour\",\"colorbar\":{\"outlinewidth\":0,\"ticks\":\"\"},\"colorscale\":[[0.0,\"#0d0887\"],[0.1111111111111111,\"#46039f\"],[0.2222222222222222,\"#7201a8\"],[0.3333333333333333,\"#9c179e\"],[0.4444444444444444,\"#bd3786\"],[0.5555555555555556,\"#d8576b\"],[0.6666666666666666,\"#ed7953\"],[0.7777777777777778,\"#fb9f3a\"],[0.8888888888888888,\"#fdca26\"],[1.0,\"#f0f921\"]]}],\"surface\":[{\"type\":\"surface\",\"colorbar\":{\"outlinewidth\":0,\"ticks\":\"\"},\"colorscale\":[[0.0,\"#0d0887\"],[0.1111111111111111,\"#46039f\"],[0.2222222222222222,\"#7201a8\"],[0.3333333333333333,\"#9c179e\"],[0.4444444444444444,\"#bd3786\"],[0.5555555555555556,\"#d8576b\"],[0.6666666666666666,\"#ed7953\"],[0.7777777777777778,\"#fb9f3a\"],[0.8888888888888888,\"#fdca26\"],[1.0,\"#f0f921\"]]}],\"mesh3d\":[{\"type\":\"mesh3d\",\"colorbar\":{\"outlinewidth\":0,\"ticks\":\"\"}}],\"scatter\":[{\"fillpattern\":{\"fillmode\":\"overlay\",\"size\":10,\"solidity\":0.2},\"type\":\"scatter\"}],\"parcoords\":[{\"type\":\"parcoords\",\"line\":{\"colorbar\":{\"outlinewidth\":0,\"ticks\":\"\"}}}],\"scatterpolargl\":[{\"type\":\"scatterpolargl\",\"marker\":{\"colorbar\":{\"outlinewidth\":0,\"ticks\":\"\"}}}],\"bar\":[{\"error_x\":{\"color\":\"#2a3f5f\"},\"error_y\":{\"color\":\"#2a3f5f\"},\"marker\":{\"line\":{\"color\":\"#E5ECF6\",\"width\":0.5},\"pattern\":{\"fillmode\":\"overlay\",\"size\":10,\"solidity\":0.2}},\"type\":\"bar\"}],\"scattergeo\":[{\"type\":\"scattergeo\",\"marker\":{\"colorbar\":{\"outlinewidth\":0,\"ticks\":\"\"}}}],\"scatterpolar\":[{\"type\":\"scatterpolar\",\"marker\":{\"colorbar\":{\"outlinewidth\":0,\"ticks\":\"\"}}}],\"histogram\":[{\"marker\":{\"pattern\":{\"fillmode\":\"overlay\",\"size\":10,\"solidity\":0.2}},\"type\":\"histogram\"}],\"scattergl\":[{\"type\":\"scattergl\",\"marker\":{\"colorbar\":{\"outlinewidth\":0,\"ticks\":\"\"}}}],\"scatter3d\":[{\"type\":\"scatter3d\",\"line\":{\"colorbar\":{\"outlinewidth\":0,\"ticks\":\"\"}},\"marker\":{\"colorbar\":{\"outlinewidth\":0,\"ticks\":\"\"}}}],\"scattermapbox\":[{\"type\":\"scattermapbox\",\"marker\":{\"colorbar\":{\"outlinewidth\":0,\"ticks\":\"\"}}}],\"scatterternary\":[{\"type\":\"scatterternary\",\"marker\":{\"colorbar\":{\"outlinewidth\":0,\"ticks\":\"\"}}}],\"scattercarpet\":[{\"type\":\"scattercarpet\",\"marker\":{\"colorbar\":{\"outlinewidth\":0,\"ticks\":\"\"}}}],\"carpet\":[{\"aaxis\":{\"endlinecolor\":\"#2a3f5f\",\"gridcolor\":\"white\",\"linecolor\":\"white\",\"minorgridcolor\":\"white\",\"startlinecolor\":\"#2a3f5f\"},\"baxis\":{\"endlinecolor\":\"#2a3f5f\",\"gridcolor\":\"white\",\"linecolor\":\"white\",\"minorgridcolor\":\"white\",\"startlinecolor\":\"#2a3f5f\"},\"type\":\"carpet\"}],\"table\":[{\"cells\":{\"fill\":{\"color\":\"#EBF0F8\"},\"line\":{\"color\":\"white\"}},\"header\":{\"fill\":{\"color\":\"#C8D4E3\"},\"line\":{\"color\":\"white\"}},\"type\":\"table\"}],\"barpolar\":[{\"marker\":{\"line\":{\"color\":\"#E5ECF6\",\"width\":0.5},\"pattern\":{\"fillmode\":\"overlay\",\"size\":10,\"solidity\":0.2}},\"type\":\"barpolar\"}],\"pie\":[{\"automargin\":true,\"type\":\"pie\"}]},\"layout\":{\"autotypenumbers\":\"strict\",\"colorway\":[\"#636efa\",\"#EF553B\",\"#00cc96\",\"#ab63fa\",\"#FFA15A\",\"#19d3f3\",\"#FF6692\",\"#B6E880\",\"#FF97FF\",\"#FECB52\"],\"font\":{\"color\":\"#2a3f5f\"},\"hovermode\":\"closest\",\"hoverlabel\":{\"align\":\"left\"},\"paper_bgcolor\":\"white\",\"plot_bgcolor\":\"#E5ECF6\",\"polar\":{\"bgcolor\":\"#E5ECF6\",\"angularaxis\":{\"gridcolor\":\"white\",\"linecolor\":\"white\",\"ticks\":\"\"},\"radialaxis\":{\"gridcolor\":\"white\",\"linecolor\":\"white\",\"ticks\":\"\"}},\"ternary\":{\"bgcolor\":\"#E5ECF6\",\"aaxis\":{\"gridcolor\":\"white\",\"linecolor\":\"white\",\"ticks\":\"\"},\"baxis\":{\"gridcolor\":\"white\",\"linecolor\":\"white\",\"ticks\":\"\"},\"caxis\":{\"gridcolor\":\"white\",\"linecolor\":\"white\",\"ticks\":\"\"}},\"coloraxis\":{\"colorbar\":{\"outlinewidth\":0,\"ticks\":\"\"}},\"colorscale\":{\"sequential\":[[0.0,\"#0d0887\"],[0.1111111111111111,\"#46039f\"],[0.2222222222222222,\"#7201a8\"],[0.3333333333333333,\"#9c179e\"],[0.4444444444444444,\"#bd3786\"],[0.5555555555555556,\"#d8576b\"],[0.6666666666666666,\"#ed7953\"],[0.7777777777777778,\"#fb9f3a\"],[0.8888888888888888,\"#fdca26\"],[1.0,\"#f0f921\"]],\"sequentialminus\":[[0.0,\"#0d0887\"],[0.1111111111111111,\"#46039f\"],[0.2222222222222222,\"#7201a8\"],[0.3333333333333333,\"#9c179e\"],[0.4444444444444444,\"#bd3786\"],[0.5555555555555556,\"#d8576b\"],[0.6666666666666666,\"#ed7953\"],[0.7777777777777778,\"#fb9f3a\"],[0.8888888888888888,\"#fdca26\"],[1.0,\"#f0f921\"]],\"diverging\":[[0,\"#8e0152\"],[0.1,\"#c51b7d\"],[0.2,\"#de77ae\"],[0.3,\"#f1b6da\"],[0.4,\"#fde0ef\"],[0.5,\"#f7f7f7\"],[0.6,\"#e6f5d0\"],[0.7,\"#b8e186\"],[0.8,\"#7fbc41\"],[0.9,\"#4d9221\"],[1,\"#276419\"]]},\"xaxis\":{\"gridcolor\":\"white\",\"linecolor\":\"white\",\"ticks\":\"\",\"title\":{\"standoff\":15},\"zerolinecolor\":\"white\",\"automargin\":true,\"zerolinewidth\":2},\"yaxis\":{\"gridcolor\":\"white\",\"linecolor\":\"white\",\"ticks\":\"\",\"title\":{\"standoff\":15},\"zerolinecolor\":\"white\",\"automargin\":true,\"zerolinewidth\":2},\"scene\":{\"xaxis\":{\"backgroundcolor\":\"#E5ECF6\",\"gridcolor\":\"white\",\"linecolor\":\"white\",\"showbackground\":true,\"ticks\":\"\",\"zerolinecolor\":\"white\",\"gridwidth\":2},\"yaxis\":{\"backgroundcolor\":\"#E5ECF6\",\"gridcolor\":\"white\",\"linecolor\":\"white\",\"showbackground\":true,\"ticks\":\"\",\"zerolinecolor\":\"white\",\"gridwidth\":2},\"zaxis\":{\"backgroundcolor\":\"#E5ECF6\",\"gridcolor\":\"white\",\"linecolor\":\"white\",\"showbackground\":true,\"ticks\":\"\",\"zerolinecolor\":\"white\",\"gridwidth\":2}},\"shapedefaults\":{\"line\":{\"color\":\"#2a3f5f\"}},\"annotationdefaults\":{\"arrowcolor\":\"#2a3f5f\",\"arrowhead\":0,\"arrowwidth\":1},\"geo\":{\"bgcolor\":\"white\",\"landcolor\":\"#E5ECF6\",\"subunitcolor\":\"white\",\"showland\":true,\"showlakes\":true,\"lakecolor\":\"white\"},\"title\":{\"x\":0.05},\"mapbox\":{\"style\":\"light\"}}},\"xaxis\":{\"anchor\":\"y\",\"domain\":[0.0,1.0],\"title\":{\"text\":\"country_name\"}},\"yaxis\":{\"anchor\":\"x\",\"domain\":[0.0,1.0],\"title\":{\"text\":\"city\"}},\"legend\":{\"tracegroupgap\":0},\"margin\":{\"t\":60},\"barmode\":\"relative\"},                        {\"responsive\": true}                    ).then(function(){\n",
       "                            \n",
       "var gd = document.getElementById('140b9bce-dfad-404e-8280-789f53d7cc35');\n",
       "var x = new MutationObserver(function (mutations, observer) {{\n",
       "        var display = window.getComputedStyle(gd).display;\n",
       "        if (!display || display === 'none') {{\n",
       "            console.log([gd, 'removed!']);\n",
       "            Plotly.purge(gd);\n",
       "            observer.disconnect();\n",
       "        }}\n",
       "}});\n",
       "\n",
       "// Listen for the removal of the full notebook cells\n",
       "var notebookContainer = gd.closest('#notebook-container');\n",
       "if (notebookContainer) {{\n",
       "    x.observe(notebookContainer, {childList: true});\n",
       "}}\n",
       "\n",
       "// Listen for the clearing of the current output cell\n",
       "var outputEl = gd.closest('.output');\n",
       "if (outputEl) {{\n",
       "    x.observe(outputEl, {childList: true});\n",
       "}}\n",
       "\n",
       "                        })                };                });            </script>        </div>"
      ]
     },
     "metadata": {},
     "output_type": "display_data"
    }
   ],
   "source": [
    "fig = px.bar(df_country, x='country_name', y='city')\n",
    "fig.show()"
   ]
  },
  {
   "cell_type": "markdown",
   "id": "3ac2d929-41b3-4f14-a349-bcfb5536775e",
   "metadata": {
    "jp-MarkdownHeadingCollapsed": true,
    "tags": []
   },
   "source": [
    "### 2. Qual o nome do país que possui mais restaurantes registrados?"
   ]
  },
  {
   "cell_type": "code",
   "execution_count": 56,
   "id": "fe622f6f-faf9-4a55-8af5-5df14df148df",
   "metadata": {},
   "outputs": [
    {
     "data": {
      "text/html": [
       "<div>\n",
       "<style scoped>\n",
       "    .dataframe tbody tr th:only-of-type {\n",
       "        vertical-align: middle;\n",
       "    }\n",
       "\n",
       "    .dataframe tbody tr th {\n",
       "        vertical-align: top;\n",
       "    }\n",
       "\n",
       "    .dataframe thead th {\n",
       "        text-align: right;\n",
       "    }\n",
       "</style>\n",
       "<table border=\"1\" class=\"dataframe\">\n",
       "  <thead>\n",
       "    <tr style=\"text-align: right;\">\n",
       "      <th></th>\n",
       "      <th>country_name</th>\n",
       "      <th>restaurant_id</th>\n",
       "    </tr>\n",
       "  </thead>\n",
       "  <tbody>\n",
       "    <tr>\n",
       "      <th>0</th>\n",
       "      <td>India</td>\n",
       "      <td>3111</td>\n",
       "    </tr>\n",
       "    <tr>\n",
       "      <th>1</th>\n",
       "      <td>United States of America</td>\n",
       "      <td>1374</td>\n",
       "    </tr>\n",
       "    <tr>\n",
       "      <th>2</th>\n",
       "      <td>England</td>\n",
       "      <td>400</td>\n",
       "    </tr>\n",
       "    <tr>\n",
       "      <th>3</th>\n",
       "      <td>South Africa</td>\n",
       "      <td>346</td>\n",
       "    </tr>\n",
       "    <tr>\n",
       "      <th>4</th>\n",
       "      <td>United Arab Emirates</td>\n",
       "      <td>300</td>\n",
       "    </tr>\n",
       "    <tr>\n",
       "      <th>5</th>\n",
       "      <td>Brazil</td>\n",
       "      <td>240</td>\n",
       "    </tr>\n",
       "    <tr>\n",
       "      <th>6</th>\n",
       "      <td>New Zeland</td>\n",
       "      <td>239</td>\n",
       "    </tr>\n",
       "    <tr>\n",
       "      <th>7</th>\n",
       "      <td>Canada</td>\n",
       "      <td>180</td>\n",
       "    </tr>\n",
       "    <tr>\n",
       "      <th>8</th>\n",
       "      <td>Australia</td>\n",
       "      <td>179</td>\n",
       "    </tr>\n",
       "    <tr>\n",
       "      <th>9</th>\n",
       "      <td>Turkey</td>\n",
       "      <td>159</td>\n",
       "    </tr>\n",
       "    <tr>\n",
       "      <th>10</th>\n",
       "      <td>Indonesia</td>\n",
       "      <td>80</td>\n",
       "    </tr>\n",
       "    <tr>\n",
       "      <th>11</th>\n",
       "      <td>Philippines</td>\n",
       "      <td>80</td>\n",
       "    </tr>\n",
       "    <tr>\n",
       "      <th>12</th>\n",
       "      <td>Qatar</td>\n",
       "      <td>80</td>\n",
       "    </tr>\n",
       "    <tr>\n",
       "      <th>13</th>\n",
       "      <td>Singapure</td>\n",
       "      <td>80</td>\n",
       "    </tr>\n",
       "    <tr>\n",
       "      <th>14</th>\n",
       "      <td>Sri Lanka</td>\n",
       "      <td>80</td>\n",
       "    </tr>\n",
       "  </tbody>\n",
       "</table>\n",
       "</div>"
      ],
      "text/plain": [
       "                country_name  restaurant_id\n",
       "0                      India           3111\n",
       "1   United States of America           1374\n",
       "2                    England            400\n",
       "3               South Africa            346\n",
       "4       United Arab Emirates            300\n",
       "5                     Brazil            240\n",
       "6                 New Zeland            239\n",
       "7                     Canada            180\n",
       "8                  Australia            179\n",
       "9                     Turkey            159\n",
       "10                 Indonesia             80\n",
       "11               Philippines             80\n",
       "12                     Qatar             80\n",
       "13                 Singapure             80\n",
       "14                 Sri Lanka             80"
      ]
     },
     "execution_count": 56,
     "metadata": {},
     "output_type": "execute_result"
    }
   ],
   "source": [
    "# Selecionar as colunas com id do restaurante e o nome do país e contar a quantidade de países de acordo com o id do restaurante\n",
    "restaurant_country = ( df[['restaurant_id', 'country_name']].groupby('country_name')\n",
    "                      .nunique()\n",
    "                      .sort_values(by='restaurant_id', ascending=False)\n",
    "                      .reset_index() )\n",
    "\n",
    "restaurant_country"
   ]
  },
  {
   "cell_type": "code",
   "execution_count": 58,
   "id": "d1d5d343-db41-4c96-9298-c9908c0af68c",
   "metadata": {},
   "outputs": [
    {
     "data": {
      "application/vnd.plotly.v1+json": {
       "config": {
        "plotlyServerURL": "https://plot.ly"
       },
       "data": [
        {
         "domain": {
          "x": [
           0,
           1
          ],
          "y": [
           0,
           1
          ]
         },
         "hovertemplate": "country_name=%{label}<br>restaurant_id=%{value}<extra></extra>",
         "labels": [
          "India",
          "United States of America",
          "England",
          "South Africa",
          "United Arab Emirates",
          "Brazil",
          "New Zeland",
          "Canada",
          "Australia",
          "Turkey",
          "Indonesia",
          "Philippines",
          "Qatar",
          "Singapure",
          "Sri Lanka"
         ],
         "legendgroup": "",
         "name": "",
         "showlegend": true,
         "type": "pie",
         "values": [
          3111,
          1374,
          400,
          346,
          300,
          240,
          239,
          180,
          179,
          159,
          80,
          80,
          80,
          80,
          80
         ]
        }
       ],
       "layout": {
        "autosize": true,
        "legend": {
         "tracegroupgap": 0
        },
        "template": {
         "data": {
          "bar": [
           {
            "error_x": {
             "color": "#2a3f5f"
            },
            "error_y": {
             "color": "#2a3f5f"
            },
            "marker": {
             "line": {
              "color": "#E5ECF6",
              "width": 0.5
             },
             "pattern": {
              "fillmode": "overlay",
              "size": 10,
              "solidity": 0.2
             }
            },
            "type": "bar"
           }
          ],
          "barpolar": [
           {
            "marker": {
             "line": {
              "color": "#E5ECF6",
              "width": 0.5
             },
             "pattern": {
              "fillmode": "overlay",
              "size": 10,
              "solidity": 0.2
             }
            },
            "type": "barpolar"
           }
          ],
          "carpet": [
           {
            "aaxis": {
             "endlinecolor": "#2a3f5f",
             "gridcolor": "white",
             "linecolor": "white",
             "minorgridcolor": "white",
             "startlinecolor": "#2a3f5f"
            },
            "baxis": {
             "endlinecolor": "#2a3f5f",
             "gridcolor": "white",
             "linecolor": "white",
             "minorgridcolor": "white",
             "startlinecolor": "#2a3f5f"
            },
            "type": "carpet"
           }
          ],
          "choropleth": [
           {
            "colorbar": {
             "outlinewidth": 0,
             "ticks": ""
            },
            "type": "choropleth"
           }
          ],
          "contour": [
           {
            "colorbar": {
             "outlinewidth": 0,
             "ticks": ""
            },
            "colorscale": [
             [
              0,
              "#0d0887"
             ],
             [
              0.1111111111111111,
              "#46039f"
             ],
             [
              0.2222222222222222,
              "#7201a8"
             ],
             [
              0.3333333333333333,
              "#9c179e"
             ],
             [
              0.4444444444444444,
              "#bd3786"
             ],
             [
              0.5555555555555556,
              "#d8576b"
             ],
             [
              0.6666666666666666,
              "#ed7953"
             ],
             [
              0.7777777777777778,
              "#fb9f3a"
             ],
             [
              0.8888888888888888,
              "#fdca26"
             ],
             [
              1,
              "#f0f921"
             ]
            ],
            "type": "contour"
           }
          ],
          "contourcarpet": [
           {
            "colorbar": {
             "outlinewidth": 0,
             "ticks": ""
            },
            "type": "contourcarpet"
           }
          ],
          "heatmap": [
           {
            "colorbar": {
             "outlinewidth": 0,
             "ticks": ""
            },
            "colorscale": [
             [
              0,
              "#0d0887"
             ],
             [
              0.1111111111111111,
              "#46039f"
             ],
             [
              0.2222222222222222,
              "#7201a8"
             ],
             [
              0.3333333333333333,
              "#9c179e"
             ],
             [
              0.4444444444444444,
              "#bd3786"
             ],
             [
              0.5555555555555556,
              "#d8576b"
             ],
             [
              0.6666666666666666,
              "#ed7953"
             ],
             [
              0.7777777777777778,
              "#fb9f3a"
             ],
             [
              0.8888888888888888,
              "#fdca26"
             ],
             [
              1,
              "#f0f921"
             ]
            ],
            "type": "heatmap"
           }
          ],
          "heatmapgl": [
           {
            "colorbar": {
             "outlinewidth": 0,
             "ticks": ""
            },
            "colorscale": [
             [
              0,
              "#0d0887"
             ],
             [
              0.1111111111111111,
              "#46039f"
             ],
             [
              0.2222222222222222,
              "#7201a8"
             ],
             [
              0.3333333333333333,
              "#9c179e"
             ],
             [
              0.4444444444444444,
              "#bd3786"
             ],
             [
              0.5555555555555556,
              "#d8576b"
             ],
             [
              0.6666666666666666,
              "#ed7953"
             ],
             [
              0.7777777777777778,
              "#fb9f3a"
             ],
             [
              0.8888888888888888,
              "#fdca26"
             ],
             [
              1,
              "#f0f921"
             ]
            ],
            "type": "heatmapgl"
           }
          ],
          "histogram": [
           {
            "marker": {
             "pattern": {
              "fillmode": "overlay",
              "size": 10,
              "solidity": 0.2
             }
            },
            "type": "histogram"
           }
          ],
          "histogram2d": [
           {
            "colorbar": {
             "outlinewidth": 0,
             "ticks": ""
            },
            "colorscale": [
             [
              0,
              "#0d0887"
             ],
             [
              0.1111111111111111,
              "#46039f"
             ],
             [
              0.2222222222222222,
              "#7201a8"
             ],
             [
              0.3333333333333333,
              "#9c179e"
             ],
             [
              0.4444444444444444,
              "#bd3786"
             ],
             [
              0.5555555555555556,
              "#d8576b"
             ],
             [
              0.6666666666666666,
              "#ed7953"
             ],
             [
              0.7777777777777778,
              "#fb9f3a"
             ],
             [
              0.8888888888888888,
              "#fdca26"
             ],
             [
              1,
              "#f0f921"
             ]
            ],
            "type": "histogram2d"
           }
          ],
          "histogram2dcontour": [
           {
            "colorbar": {
             "outlinewidth": 0,
             "ticks": ""
            },
            "colorscale": [
             [
              0,
              "#0d0887"
             ],
             [
              0.1111111111111111,
              "#46039f"
             ],
             [
              0.2222222222222222,
              "#7201a8"
             ],
             [
              0.3333333333333333,
              "#9c179e"
             ],
             [
              0.4444444444444444,
              "#bd3786"
             ],
             [
              0.5555555555555556,
              "#d8576b"
             ],
             [
              0.6666666666666666,
              "#ed7953"
             ],
             [
              0.7777777777777778,
              "#fb9f3a"
             ],
             [
              0.8888888888888888,
              "#fdca26"
             ],
             [
              1,
              "#f0f921"
             ]
            ],
            "type": "histogram2dcontour"
           }
          ],
          "mesh3d": [
           {
            "colorbar": {
             "outlinewidth": 0,
             "ticks": ""
            },
            "type": "mesh3d"
           }
          ],
          "parcoords": [
           {
            "line": {
             "colorbar": {
              "outlinewidth": 0,
              "ticks": ""
             }
            },
            "type": "parcoords"
           }
          ],
          "pie": [
           {
            "automargin": true,
            "type": "pie"
           }
          ],
          "scatter": [
           {
            "fillpattern": {
             "fillmode": "overlay",
             "size": 10,
             "solidity": 0.2
            },
            "type": "scatter"
           }
          ],
          "scatter3d": [
           {
            "line": {
             "colorbar": {
              "outlinewidth": 0,
              "ticks": ""
             }
            },
            "marker": {
             "colorbar": {
              "outlinewidth": 0,
              "ticks": ""
             }
            },
            "type": "scatter3d"
           }
          ],
          "scattercarpet": [
           {
            "marker": {
             "colorbar": {
              "outlinewidth": 0,
              "ticks": ""
             }
            },
            "type": "scattercarpet"
           }
          ],
          "scattergeo": [
           {
            "marker": {
             "colorbar": {
              "outlinewidth": 0,
              "ticks": ""
             }
            },
            "type": "scattergeo"
           }
          ],
          "scattergl": [
           {
            "marker": {
             "colorbar": {
              "outlinewidth": 0,
              "ticks": ""
             }
            },
            "type": "scattergl"
           }
          ],
          "scattermapbox": [
           {
            "marker": {
             "colorbar": {
              "outlinewidth": 0,
              "ticks": ""
             }
            },
            "type": "scattermapbox"
           }
          ],
          "scatterpolar": [
           {
            "marker": {
             "colorbar": {
              "outlinewidth": 0,
              "ticks": ""
             }
            },
            "type": "scatterpolar"
           }
          ],
          "scatterpolargl": [
           {
            "marker": {
             "colorbar": {
              "outlinewidth": 0,
              "ticks": ""
             }
            },
            "type": "scatterpolargl"
           }
          ],
          "scatterternary": [
           {
            "marker": {
             "colorbar": {
              "outlinewidth": 0,
              "ticks": ""
             }
            },
            "type": "scatterternary"
           }
          ],
          "surface": [
           {
            "colorbar": {
             "outlinewidth": 0,
             "ticks": ""
            },
            "colorscale": [
             [
              0,
              "#0d0887"
             ],
             [
              0.1111111111111111,
              "#46039f"
             ],
             [
              0.2222222222222222,
              "#7201a8"
             ],
             [
              0.3333333333333333,
              "#9c179e"
             ],
             [
              0.4444444444444444,
              "#bd3786"
             ],
             [
              0.5555555555555556,
              "#d8576b"
             ],
             [
              0.6666666666666666,
              "#ed7953"
             ],
             [
              0.7777777777777778,
              "#fb9f3a"
             ],
             [
              0.8888888888888888,
              "#fdca26"
             ],
             [
              1,
              "#f0f921"
             ]
            ],
            "type": "surface"
           }
          ],
          "table": [
           {
            "cells": {
             "fill": {
              "color": "#EBF0F8"
             },
             "line": {
              "color": "white"
             }
            },
            "header": {
             "fill": {
              "color": "#C8D4E3"
             },
             "line": {
              "color": "white"
             }
            },
            "type": "table"
           }
          ]
         },
         "layout": {
          "annotationdefaults": {
           "arrowcolor": "#2a3f5f",
           "arrowhead": 0,
           "arrowwidth": 1
          },
          "autotypenumbers": "strict",
          "coloraxis": {
           "colorbar": {
            "outlinewidth": 0,
            "ticks": ""
           }
          },
          "colorscale": {
           "diverging": [
            [
             0,
             "#8e0152"
            ],
            [
             0.1,
             "#c51b7d"
            ],
            [
             0.2,
             "#de77ae"
            ],
            [
             0.3,
             "#f1b6da"
            ],
            [
             0.4,
             "#fde0ef"
            ],
            [
             0.5,
             "#f7f7f7"
            ],
            [
             0.6,
             "#e6f5d0"
            ],
            [
             0.7,
             "#b8e186"
            ],
            [
             0.8,
             "#7fbc41"
            ],
            [
             0.9,
             "#4d9221"
            ],
            [
             1,
             "#276419"
            ]
           ],
           "sequential": [
            [
             0,
             "#0d0887"
            ],
            [
             0.1111111111111111,
             "#46039f"
            ],
            [
             0.2222222222222222,
             "#7201a8"
            ],
            [
             0.3333333333333333,
             "#9c179e"
            ],
            [
             0.4444444444444444,
             "#bd3786"
            ],
            [
             0.5555555555555556,
             "#d8576b"
            ],
            [
             0.6666666666666666,
             "#ed7953"
            ],
            [
             0.7777777777777778,
             "#fb9f3a"
            ],
            [
             0.8888888888888888,
             "#fdca26"
            ],
            [
             1,
             "#f0f921"
            ]
           ],
           "sequentialminus": [
            [
             0,
             "#0d0887"
            ],
            [
             0.1111111111111111,
             "#46039f"
            ],
            [
             0.2222222222222222,
             "#7201a8"
            ],
            [
             0.3333333333333333,
             "#9c179e"
            ],
            [
             0.4444444444444444,
             "#bd3786"
            ],
            [
             0.5555555555555556,
             "#d8576b"
            ],
            [
             0.6666666666666666,
             "#ed7953"
            ],
            [
             0.7777777777777778,
             "#fb9f3a"
            ],
            [
             0.8888888888888888,
             "#fdca26"
            ],
            [
             1,
             "#f0f921"
            ]
           ]
          },
          "colorway": [
           "#636efa",
           "#EF553B",
           "#00cc96",
           "#ab63fa",
           "#FFA15A",
           "#19d3f3",
           "#FF6692",
           "#B6E880",
           "#FF97FF",
           "#FECB52"
          ],
          "font": {
           "color": "#2a3f5f"
          },
          "geo": {
           "bgcolor": "white",
           "lakecolor": "white",
           "landcolor": "#E5ECF6",
           "showlakes": true,
           "showland": true,
           "subunitcolor": "white"
          },
          "hoverlabel": {
           "align": "left"
          },
          "hovermode": "closest",
          "mapbox": {
           "style": "light"
          },
          "paper_bgcolor": "white",
          "plot_bgcolor": "#E5ECF6",
          "polar": {
           "angularaxis": {
            "gridcolor": "white",
            "linecolor": "white",
            "ticks": ""
           },
           "bgcolor": "#E5ECF6",
           "radialaxis": {
            "gridcolor": "white",
            "linecolor": "white",
            "ticks": ""
           }
          },
          "scene": {
           "xaxis": {
            "backgroundcolor": "#E5ECF6",
            "gridcolor": "white",
            "gridwidth": 2,
            "linecolor": "white",
            "showbackground": true,
            "ticks": "",
            "zerolinecolor": "white"
           },
           "yaxis": {
            "backgroundcolor": "#E5ECF6",
            "gridcolor": "white",
            "gridwidth": 2,
            "linecolor": "white",
            "showbackground": true,
            "ticks": "",
            "zerolinecolor": "white"
           },
           "zaxis": {
            "backgroundcolor": "#E5ECF6",
            "gridcolor": "white",
            "gridwidth": 2,
            "linecolor": "white",
            "showbackground": true,
            "ticks": "",
            "zerolinecolor": "white"
           }
          },
          "shapedefaults": {
           "line": {
            "color": "#2a3f5f"
           }
          },
          "ternary": {
           "aaxis": {
            "gridcolor": "white",
            "linecolor": "white",
            "ticks": ""
           },
           "baxis": {
            "gridcolor": "white",
            "linecolor": "white",
            "ticks": ""
           },
           "bgcolor": "#E5ECF6",
           "caxis": {
            "gridcolor": "white",
            "linecolor": "white",
            "ticks": ""
           }
          },
          "title": {
           "x": 0.05
          },
          "xaxis": {
           "automargin": true,
           "gridcolor": "white",
           "linecolor": "white",
           "ticks": "",
           "title": {
            "standoff": 15
           },
           "zerolinecolor": "white",
           "zerolinewidth": 2
          },
          "yaxis": {
           "automargin": true,
           "gridcolor": "white",
           "linecolor": "white",
           "ticks": "",
           "title": {
            "standoff": 15
           },
           "zerolinecolor": "white",
           "zerolinewidth": 2
          }
         }
        },
        "title": {
         "text": "Quantidade de Restaurantes Registrados"
        }
       }
      },
      "image/png": "[encoded data removed]",
      "text/html": [
       "<div>                            <div id=\"455911ab-d9d4-4026-b9db-3ee4980f38a8\" class=\"plotly-graph-div\" style=\"height:525px; width:100%;\"></div>            <script type=\"text/javascript\">                require([\"plotly\"], function(Plotly) {                    window.PLOTLYENV=window.PLOTLYENV || {};                                    if (document.getElementById(\"455911ab-d9d4-4026-b9db-3ee4980f38a8\")) {                    Plotly.newPlot(                        \"455911ab-d9d4-4026-b9db-3ee4980f38a8\",                        [{\"domain\":{\"x\":[0.0,1.0],\"y\":[0.0,1.0]},\"hovertemplate\":\"country_name=%{label}<br>restaurant_id=%{value}<extra></extra>\",\"labels\":[\"India\",\"United States of America\",\"England\",\"South Africa\",\"United Arab Emirates\",\"Brazil\",\"New Zeland\",\"Canada\",\"Australia\",\"Turkey\",\"Indonesia\",\"Philippines\",\"Qatar\",\"Singapure\",\"Sri Lanka\"],\"legendgroup\":\"\",\"name\":\"\",\"showlegend\":true,\"values\":[3111,1374,400,346,300,240,239,180,179,159,80,80,80,80,80],\"type\":\"pie\"}],                        {\"template\":{\"data\":{\"histogram2dcontour\":[{\"type\":\"histogram2dcontour\",\"colorbar\":{\"outlinewidth\":0,\"ticks\":\"\"},\"colorscale\":[[0.0,\"#0d0887\"],[0.1111111111111111,\"#46039f\"],[0.2222222222222222,\"#7201a8\"],[0.3333333333333333,\"#9c179e\"],[0.4444444444444444,\"#bd3786\"],[0.5555555555555556,\"#d8576b\"],[0.6666666666666666,\"#ed7953\"],[0.7777777777777778,\"#fb9f3a\"],[0.8888888888888888,\"#fdca26\"],[1.0,\"#f0f921\"]]}],\"choropleth\":[{\"type\":\"choropleth\",\"colorbar\":{\"outlinewidth\":0,\"ticks\":\"\"}}],\"histogram2d\":[{\"type\":\"histogram2d\",\"colorbar\":{\"outlinewidth\":0,\"ticks\":\"\"},\"colorscale\":[[0.0,\"#0d0887\"],[0.1111111111111111,\"#46039f\"],[0.2222222222222222,\"#7201a8\"],[0.3333333333333333,\"#9c179e\"],[0.4444444444444444,\"#bd3786\"],[0.5555555555555556,\"#d8576b\"],[0.6666666666666666,\"#ed7953\"],[0.7777777777777778,\"#fb9f3a\"],[0.8888888888888888,\"#fdca26\"],[1.0,\"#f0f921\"]]}],\"heatmap\":[{\"type\":\"heatmap\",\"colorbar\":{\"outlinewidth\":0,\"ticks\":\"\"},\"colorscale\":[[0.0,\"#0d0887\"],[0.1111111111111111,\"#46039f\"],[0.2222222222222222,\"#7201a8\"],[0.3333333333333333,\"#9c179e\"],[0.4444444444444444,\"#bd3786\"],[0.5555555555555556,\"#d8576b\"],[0.6666666666666666,\"#ed7953\"],[0.7777777777777778,\"#fb9f3a\"],[0.8888888888888888,\"#fdca26\"],[1.0,\"#f0f921\"]]}],\"heatmapgl\":[{\"type\":\"heatmapgl\",\"colorbar\":{\"outlinewidth\":0,\"ticks\":\"\"},\"colorscale\":[[0.0,\"#0d0887\"],[0.1111111111111111,\"#46039f\"],[0.2222222222222222,\"#7201a8\"],[0.3333333333333333,\"#9c179e\"],[0.4444444444444444,\"#bd3786\"],[0.5555555555555556,\"#d8576b\"],[0.6666666666666666,\"#ed7953\"],[0.7777777777777778,\"#fb9f3a\"],[0.8888888888888888,\"#fdca26\"],[1.0,\"#f0f921\"]]}],\"contourcarpet\":[{\"type\":\"contourcarpet\",\"colorbar\":{\"outlinewidth\":0,\"ticks\":\"\"}}],\"contour\":[{\"type\":\"contour\",\"colorbar\":{\"outlinewidth\":0,\"ticks\":\"\"},\"colorscale\":[[0.0,\"#0d0887\"],[0.1111111111111111,\"#46039f\"],[0.2222222222222222,\"#7201a8\"],[0.3333333333333333,\"#9c179e\"],[0.4444444444444444,\"#bd3786\"],[0.5555555555555556,\"#d8576b\"],[0.6666666666666666,\"#ed7953\"],[0.7777777777777778,\"#fb9f3a\"],[0.8888888888888888,\"#fdca26\"],[1.0,\"#f0f921\"]]}],\"surface\":[{\"type\":\"surface\",\"colorbar\":{\"outlinewidth\":0,\"ticks\":\"\"},\"colorscale\":[[0.0,\"#0d0887\"],[0.1111111111111111,\"#46039f\"],[0.2222222222222222,\"#7201a8\"],[0.3333333333333333,\"#9c179e\"],[0.4444444444444444,\"#bd3786\"],[0.5555555555555556,\"#d8576b\"],[0.6666666666666666,\"#ed7953\"],[0.7777777777777778,\"#fb9f3a\"],[0.8888888888888888,\"#fdca26\"],[1.0,\"#f0f921\"]]}],\"mesh3d\":[{\"type\":\"mesh3d\",\"colorbar\":{\"outlinewidth\":0,\"ticks\":\"\"}}],\"scatter\":[{\"fillpattern\":{\"fillmode\":\"overlay\",\"size\":10,\"solidity\":0.2},\"type\":\"scatter\"}],\"parcoords\":[{\"type\":\"parcoords\",\"line\":{\"colorbar\":{\"outlinewidth\":0,\"ticks\":\"\"}}}],\"scatterpolargl\":[{\"type\":\"scatterpolargl\",\"marker\":{\"colorbar\":{\"outlinewidth\":0,\"ticks\":\"\"}}}],\"bar\":[{\"error_x\":{\"color\":\"#2a3f5f\"},\"error_y\":{\"color\":\"#2a3f5f\"},\"marker\":{\"line\":{\"color\":\"#E5ECF6\",\"width\":0.5},\"pattern\":{\"fillmode\":\"overlay\",\"size\":10,\"solidity\":0.2}},\"type\":\"bar\"}],\"scattergeo\":[{\"type\":\"scattergeo\",\"marker\":{\"colorbar\":{\"outlinewidth\":0,\"ticks\":\"\"}}}],\"scatterpolar\":[{\"type\":\"scatterpolar\",\"marker\":{\"colorbar\":{\"outlinewidth\":0,\"ticks\":\"\"}}}],\"histogram\":[{\"marker\":{\"pattern\":{\"fillmode\":\"overlay\",\"size\":10,\"solidity\":0.2}},\"type\":\"histogram\"}],\"scattergl\":[{\"type\":\"scattergl\",\"marker\":{\"colorbar\":{\"outlinewidth\":0,\"ticks\":\"\"}}}],\"scatter3d\":[{\"type\":\"scatter3d\",\"line\":{\"colorbar\":{\"outlinewidth\":0,\"ticks\":\"\"}},\"marker\":{\"colorbar\":{\"outlinewidth\":0,\"ticks\":\"\"}}}],\"scattermapbox\":[{\"type\":\"scattermapbox\",\"marker\":{\"colorbar\":{\"outlinewidth\":0,\"ticks\":\"\"}}}],\"scatterternary\":[{\"type\":\"scatterternary\",\"marker\":{\"colorbar\":{\"outlinewidth\":0,\"ticks\":\"\"}}}],\"scattercarpet\":[{\"type\":\"scattercarpet\",\"marker\":{\"colorbar\":{\"outlinewidth\":0,\"ticks\":\"\"}}}],\"carpet\":[{\"aaxis\":{\"endlinecolor\":\"#2a3f5f\",\"gridcolor\":\"white\",\"linecolor\":\"white\",\"minorgridcolor\":\"white\",\"startlinecolor\":\"#2a3f5f\"},\"baxis\":{\"endlinecolor\":\"#2a3f5f\",\"gridcolor\":\"white\",\"linecolor\":\"white\",\"minorgridcolor\":\"white\",\"startlinecolor\":\"#2a3f5f\"},\"type\":\"carpet\"}],\"table\":[{\"cells\":{\"fill\":{\"color\":\"#EBF0F8\"},\"line\":{\"color\":\"white\"}},\"header\":{\"fill\":{\"color\":\"#C8D4E3\"},\"line\":{\"color\":\"white\"}},\"type\":\"table\"}],\"barpolar\":[{\"marker\":{\"line\":{\"color\":\"#E5ECF6\",\"width\":0.5},\"pattern\":{\"fillmode\":\"overlay\",\"size\":10,\"solidity\":0.2}},\"type\":\"barpolar\"}],\"pie\":[{\"automargin\":true,\"type\":\"pie\"}]},\"layout\":{\"autotypenumbers\":\"strict\",\"colorway\":[\"#636efa\",\"#EF553B\",\"#00cc96\",\"#ab63fa\",\"#FFA15A\",\"#19d3f3\",\"#FF6692\",\"#B6E880\",\"#FF97FF\",\"#FECB52\"],\"font\":{\"color\":\"#2a3f5f\"},\"hovermode\":\"closest\",\"hoverlabel\":{\"align\":\"left\"},\"paper_bgcolor\":\"white\",\"plot_bgcolor\":\"#E5ECF6\",\"polar\":{\"bgcolor\":\"#E5ECF6\",\"angularaxis\":{\"gridcolor\":\"white\",\"linecolor\":\"white\",\"ticks\":\"\"},\"radialaxis\":{\"gridcolor\":\"white\",\"linecolor\":\"white\",\"ticks\":\"\"}},\"ternary\":{\"bgcolor\":\"#E5ECF6\",\"aaxis\":{\"gridcolor\":\"white\",\"linecolor\":\"white\",\"ticks\":\"\"},\"baxis\":{\"gridcolor\":\"white\",\"linecolor\":\"white\",\"ticks\":\"\"},\"caxis\":{\"gridcolor\":\"white\",\"linecolor\":\"white\",\"ticks\":\"\"}},\"coloraxis\":{\"colorbar\":{\"outlinewidth\":0,\"ticks\":\"\"}},\"colorscale\":{\"sequential\":[[0.0,\"#0d0887\"],[0.1111111111111111,\"#46039f\"],[0.2222222222222222,\"#7201a8\"],[0.3333333333333333,\"#9c179e\"],[0.4444444444444444,\"#bd3786\"],[0.5555555555555556,\"#d8576b\"],[0.6666666666666666,\"#ed7953\"],[0.7777777777777778,\"#fb9f3a\"],[0.8888888888888888,\"#fdca26\"],[1.0,\"#f0f921\"]],\"sequentialminus\":[[0.0,\"#0d0887\"],[0.1111111111111111,\"#46039f\"],[0.2222222222222222,\"#7201a8\"],[0.3333333333333333,\"#9c179e\"],[0.4444444444444444,\"#bd3786\"],[0.5555555555555556,\"#d8576b\"],[0.6666666666666666,\"#ed7953\"],[0.7777777777777778,\"#fb9f3a\"],[0.8888888888888888,\"#fdca26\"],[1.0,\"#f0f921\"]],\"diverging\":[[0,\"#8e0152\"],[0.1,\"#c51b7d\"],[0.2,\"#de77ae\"],[0.3,\"#f1b6da\"],[0.4,\"#fde0ef\"],[0.5,\"#f7f7f7\"],[0.6,\"#e6f5d0\"],[0.7,\"#b8e186\"],[0.8,\"#7fbc41\"],[0.9,\"#4d9221\"],[1,\"#276419\"]]},\"xaxis\":{\"gridcolor\":\"white\",\"linecolor\":\"white\",\"ticks\":\"\",\"title\":{\"standoff\":15},\"zerolinecolor\":\"white\",\"automargin\":true,\"zerolinewidth\":2},\"yaxis\":{\"gridcolor\":\"white\",\"linecolor\":\"white\",\"ticks\":\"\",\"title\":{\"standoff\":15},\"zerolinecolor\":\"white\",\"automargin\":true,\"zerolinewidth\":2},\"scene\":{\"xaxis\":{\"backgroundcolor\":\"#E5ECF6\",\"gridcolor\":\"white\",\"linecolor\":\"white\",\"showbackground\":true,\"ticks\":\"\",\"zerolinecolor\":\"white\",\"gridwidth\":2},\"yaxis\":{\"backgroundcolor\":\"#E5ECF6\",\"gridcolor\":\"white\",\"linecolor\":\"white\",\"showbackground\":true,\"ticks\":\"\",\"zerolinecolor\":\"white\",\"gridwidth\":2},\"zaxis\":{\"backgroundcolor\":\"#E5ECF6\",\"gridcolor\":\"white\",\"linecolor\":\"white\",\"showbackground\":true,\"ticks\":\"\",\"zerolinecolor\":\"white\",\"gridwidth\":2}},\"shapedefaults\":{\"line\":{\"color\":\"#2a3f5f\"}},\"annotationdefaults\":{\"arrowcolor\":\"#2a3f5f\",\"arrowhead\":0,\"arrowwidth\":1},\"geo\":{\"bgcolor\":\"white\",\"landcolor\":\"#E5ECF6\",\"subunitcolor\":\"white\",\"showland\":true,\"showlakes\":true,\"lakecolor\":\"white\"},\"title\":{\"x\":0.05},\"mapbox\":{\"style\":\"light\"}}},\"legend\":{\"tracegroupgap\":0},\"title\":{\"text\":\"Quantidade de Restaurantes Registrados\"}},                        {\"responsive\": true}                    ).then(function(){\n",
       "                            \n",
       "var gd = document.getElementById('455911ab-d9d4-4026-b9db-3ee4980f38a8');\n",
       "var x = new MutationObserver(function (mutations, observer) {{\n",
       "        var display = window.getComputedStyle(gd).display;\n",
       "        if (!display || display === 'none') {{\n",
       "            console.log([gd, 'removed!']);\n",
       "            Plotly.purge(gd);\n",
       "            observer.disconnect();\n",
       "        }}\n",
       "}});\n",
       "\n",
       "// Listen for the removal of the full notebook cells\n",
       "var notebookContainer = gd.closest('#notebook-container');\n",
       "if (notebookContainer) {{\n",
       "    x.observe(notebookContainer, {childList: true});\n",
       "}}\n",
       "\n",
       "// Listen for the clearing of the current output cell\n",
       "var outputEl = gd.closest('.output');\n",
       "if (outputEl) {{\n",
       "    x.observe(outputEl, {childList: true});\n",
       "}}\n",
       "\n",
       "                        })                };                });            </script>        </div>"
      ]
     },
     "metadata": {},
     "output_type": "display_data"
    }
   ],
   "source": [
    "fig = px.pie(restaurant_country, values='restaurant_id', names='country_name', title='Quantidade de Restaurantes Registrados')\n",
    "fig.show()"
   ]
  },
  {
   "cell_type": "markdown",
   "id": "ff2a6728-9895-4e80-a1b0-fa40400da232",
   "metadata": {
    "jp-MarkdownHeadingCollapsed": true,
    "tags": []
   },
   "source": [
    "### 3. Qual o nome do país que possui mais restaurantes com o nível de preço igual a 4 registrados?"
   ]
  },
  {
   "cell_type": "code",
   "execution_count": 70,
   "id": "4e736ccf-0d7d-4698-9fe9-1a1a0897e259",
   "metadata": {},
   "outputs": [
    {
     "data": {
      "text/html": [
       "<div>\n",
       "<style scoped>\n",
       "    .dataframe tbody tr th:only-of-type {\n",
       "        vertical-align: middle;\n",
       "    }\n",
       "\n",
       "    .dataframe tbody tr th {\n",
       "        vertical-align: top;\n",
       "    }\n",
       "\n",
       "    .dataframe thead th {\n",
       "        text-align: right;\n",
       "    }\n",
       "</style>\n",
       "<table border=\"1\" class=\"dataframe\">\n",
       "  <thead>\n",
       "    <tr style=\"text-align: right;\">\n",
       "      <th></th>\n",
       "      <th>country_name</th>\n",
       "      <th>price_range</th>\n",
       "    </tr>\n",
       "  </thead>\n",
       "  <tbody>\n",
       "    <tr>\n",
       "      <th>0</th>\n",
       "      <td>United States of America</td>\n",
       "      <td>415</td>\n",
       "    </tr>\n",
       "    <tr>\n",
       "      <th>1</th>\n",
       "      <td>South Africa</td>\n",
       "      <td>221</td>\n",
       "    </tr>\n",
       "    <tr>\n",
       "      <th>2</th>\n",
       "      <td>India</td>\n",
       "      <td>195</td>\n",
       "    </tr>\n",
       "    <tr>\n",
       "      <th>3</th>\n",
       "      <td>Brazil</td>\n",
       "      <td>148</td>\n",
       "    </tr>\n",
       "    <tr>\n",
       "      <th>4</th>\n",
       "      <td>United Arab Emirates</td>\n",
       "      <td>102</td>\n",
       "    </tr>\n",
       "    <tr>\n",
       "      <th>5</th>\n",
       "      <td>England</td>\n",
       "      <td>79</td>\n",
       "    </tr>\n",
       "    <tr>\n",
       "      <th>6</th>\n",
       "      <td>New Zeland</td>\n",
       "      <td>79</td>\n",
       "    </tr>\n",
       "    <tr>\n",
       "      <th>7</th>\n",
       "      <td>Turkey</td>\n",
       "      <td>59</td>\n",
       "    </tr>\n",
       "    <tr>\n",
       "      <th>8</th>\n",
       "      <td>Singapure</td>\n",
       "      <td>58</td>\n",
       "    </tr>\n",
       "    <tr>\n",
       "      <th>9</th>\n",
       "      <td>Canada</td>\n",
       "      <td>54</td>\n",
       "    </tr>\n",
       "    <tr>\n",
       "      <th>10</th>\n",
       "      <td>Qatar</td>\n",
       "      <td>50</td>\n",
       "    </tr>\n",
       "    <tr>\n",
       "      <th>11</th>\n",
       "      <td>Australia</td>\n",
       "      <td>33</td>\n",
       "    </tr>\n",
       "    <tr>\n",
       "      <th>12</th>\n",
       "      <td>Philippines</td>\n",
       "      <td>23</td>\n",
       "    </tr>\n",
       "    <tr>\n",
       "      <th>13</th>\n",
       "      <td>Indonesia</td>\n",
       "      <td>17</td>\n",
       "    </tr>\n",
       "    <tr>\n",
       "      <th>14</th>\n",
       "      <td>Sri Lanka</td>\n",
       "      <td>16</td>\n",
       "    </tr>\n",
       "  </tbody>\n",
       "</table>\n",
       "</div>"
      ],
      "text/plain": [
       "                country_name  price_range\n",
       "0   United States of America          415\n",
       "1               South Africa          221\n",
       "2                      India          195\n",
       "3                     Brazil          148\n",
       "4       United Arab Emirates          102\n",
       "5                    England           79\n",
       "6                 New Zeland           79\n",
       "7                     Turkey           59\n",
       "8                  Singapure           58\n",
       "9                     Canada           54\n",
       "10                     Qatar           50\n",
       "11                 Australia           33\n",
       "12               Philippines           23\n",
       "13                 Indonesia           17\n",
       "14                 Sri Lanka           16"
      ]
     },
     "execution_count": 70,
     "metadata": {},
     "output_type": "execute_result"
    }
   ],
   "source": [
    "# Selecionar as colunas com país, restaurantes e nível de preço, fazer um filtro no nível de preço que seja igual a 4\n",
    "cols = ['country_name', 'price_range']\n",
    "restaurant_level_4 = ( df.loc[df['price_range'] == 4, cols].groupby('country_name')\n",
    "                                                            .count()\n",
    "                                                            .sort_values(by='price_range', ascending=False)\n",
    "                                                            .reset_index() )\n",
    "restaurant_level_4"
   ]
  },
  {
   "cell_type": "markdown",
   "id": "f3f7e9f8-2323-4fcf-870f-d369460388a0",
   "metadata": {
    "jp-MarkdownHeadingCollapsed": true,
    "tags": []
   },
   "source": [
    "### 4. Qual o nome do país que possui a maior quantidade de tipos de culinária distintos?"
   ]
  },
  {
   "cell_type": "code",
   "execution_count": 71,
   "id": "576ba91c-105a-4b95-9c3c-ee1f40089dba",
   "metadata": {},
   "outputs": [
    {
     "data": {
      "text/html": [
       "<div>\n",
       "<style scoped>\n",
       "    .dataframe tbody tr th:only-of-type {\n",
       "        vertical-align: middle;\n",
       "    }\n",
       "\n",
       "    .dataframe tbody tr th {\n",
       "        vertical-align: top;\n",
       "    }\n",
       "\n",
       "    .dataframe thead th {\n",
       "        text-align: right;\n",
       "    }\n",
       "</style>\n",
       "<table border=\"1\" class=\"dataframe\">\n",
       "  <thead>\n",
       "    <tr style=\"text-align: right;\">\n",
       "      <th></th>\n",
       "      <th>country_name</th>\n",
       "      <th>cuisines</th>\n",
       "    </tr>\n",
       "  </thead>\n",
       "  <tbody>\n",
       "    <tr>\n",
       "      <th>0</th>\n",
       "      <td>India</td>\n",
       "      <td>77</td>\n",
       "    </tr>\n",
       "    <tr>\n",
       "      <th>1</th>\n",
       "      <td>United States of America</td>\n",
       "      <td>74</td>\n",
       "    </tr>\n",
       "    <tr>\n",
       "      <th>2</th>\n",
       "      <td>England</td>\n",
       "      <td>52</td>\n",
       "    </tr>\n",
       "    <tr>\n",
       "      <th>3</th>\n",
       "      <td>United Arab Emirates</td>\n",
       "      <td>46</td>\n",
       "    </tr>\n",
       "    <tr>\n",
       "      <th>4</th>\n",
       "      <td>Australia</td>\n",
       "      <td>43</td>\n",
       "    </tr>\n",
       "    <tr>\n",
       "      <th>5</th>\n",
       "      <td>Brazil</td>\n",
       "      <td>43</td>\n",
       "    </tr>\n",
       "    <tr>\n",
       "      <th>6</th>\n",
       "      <td>Canada</td>\n",
       "      <td>42</td>\n",
       "    </tr>\n",
       "    <tr>\n",
       "      <th>7</th>\n",
       "      <td>South Africa</td>\n",
       "      <td>42</td>\n",
       "    </tr>\n",
       "    <tr>\n",
       "      <th>8</th>\n",
       "      <td>New Zeland</td>\n",
       "      <td>37</td>\n",
       "    </tr>\n",
       "    <tr>\n",
       "      <th>9</th>\n",
       "      <td>Qatar</td>\n",
       "      <td>31</td>\n",
       "    </tr>\n",
       "    <tr>\n",
       "      <th>10</th>\n",
       "      <td>Turkey</td>\n",
       "      <td>28</td>\n",
       "    </tr>\n",
       "    <tr>\n",
       "      <th>11</th>\n",
       "      <td>Sri Lanka</td>\n",
       "      <td>26</td>\n",
       "    </tr>\n",
       "    <tr>\n",
       "      <th>12</th>\n",
       "      <td>Indonesia</td>\n",
       "      <td>21</td>\n",
       "    </tr>\n",
       "    <tr>\n",
       "      <th>13</th>\n",
       "      <td>Singapure</td>\n",
       "      <td>21</td>\n",
       "    </tr>\n",
       "    <tr>\n",
       "      <th>14</th>\n",
       "      <td>Philippines</td>\n",
       "      <td>14</td>\n",
       "    </tr>\n",
       "  </tbody>\n",
       "</table>\n",
       "</div>"
      ],
      "text/plain": [
       "                country_name  cuisines\n",
       "0                      India        77\n",
       "1   United States of America        74\n",
       "2                    England        52\n",
       "3       United Arab Emirates        46\n",
       "4                  Australia        43\n",
       "5                     Brazil        43\n",
       "6                     Canada        42\n",
       "7               South Africa        42\n",
       "8                 New Zeland        37\n",
       "9                      Qatar        31\n",
       "10                    Turkey        28\n",
       "11                 Sri Lanka        26\n",
       "12                 Indonesia        21\n",
       "13                 Singapure        21\n",
       "14               Philippines        14"
      ]
     },
     "execution_count": 71,
     "metadata": {},
     "output_type": "execute_result"
    }
   ],
   "source": [
    "# Selecionar a coluna com os países, agrupar pelos tipos de culinária, aplicar a função nunique()\n",
    "cols = ['country_name', 'cuisines']\n",
    "country_cuisines = ( df.loc[:, cols].groupby('country_name')\n",
    "                    .nunique()\n",
    "                    .sort_values(by='cuisines', ascending=False)\n",
    "                    .reset_index() )\n",
    "country_cuisines"
   ]
  },
  {
   "cell_type": "markdown",
   "id": "dfa10d55-59db-4445-acdc-c02f7acee7f7",
   "metadata": {
    "jp-MarkdownHeadingCollapsed": true,
    "tags": []
   },
   "source": [
    "### 5. Qual o nome do país que possui a maior quantidade de avaliações feitas?"
   ]
  },
  {
   "cell_type": "code",
   "execution_count": null,
   "id": "001c4fc5-63c6-4756-ba2b-3fd35c41296c",
   "metadata": {},
   "outputs": [],
   "source": [
    "# Selecionar a coluna país e avaliações, agrupar pelo nome do país\n",
    "#e aplicar a função count() para contar a quantidade de avaliações na base de dados\n",
    "\n",
    "cols = ['country_name', 'votes']\n",
    "country_votes = (df.loc[:, cols].groupby('country_name').count()\n",
    "                 .sort_values(by='votes', ascending=False)\n",
    "                 .reset_index() )\n",
    "country_votes"
   ]
  },
  {
   "cell_type": "markdown",
   "id": "bbc02294-1b9b-45aa-9eab-f7081e2fe7a1",
   "metadata": {
    "jp-MarkdownHeadingCollapsed": true,
    "tags": []
   },
   "source": [
    "### 6. Qual o nome do país que possui a maior quantidade de restaurantes que fazem entrega?"
   ]
  },
  {
   "cell_type": "code",
   "execution_count": null,
   "id": "5828adf1-572d-4de1-adfa-0833b21961dc",
   "metadata": {},
   "outputs": [],
   "source": [
    "# Selecionar as colunas com o nome dos países e se fazem delivery,\n",
    "# agrupar pelo nome dos países, aplicar a função max() e ordenar pela quantidade de entregas \n",
    "\n",
    "cols = ['country_name', 'is_delivering_now']\n",
    "country_delivery = ( df.loc[:, cols].groupby('country_name')\n",
    "                    .count()\n",
    "                    .sort_values(by='is_delivering_now', ascending=False)\n",
    "                    .reset_index())\n",
    "country_delivery.columns = ['Country', 'Number of Deliveries']\n",
    "country_delivery"
   ]
  },
  {
   "cell_type": "markdown",
   "id": "3303e30a-4007-4ecb-a4d6-3932e2fc968c",
   "metadata": {
    "jp-MarkdownHeadingCollapsed": true,
    "tags": []
   },
   "source": [
    "### 7. Qual o nome do país que possui a maior quantidade de restaurantes que aceitam reservas?"
   ]
  },
  {
   "cell_type": "code",
   "execution_count": null,
   "id": "82c47ff7-d890-49f1-9bd4-7969f03f5f67",
   "metadata": {},
   "outputs": [],
   "source": [
    "# Selecionar as colunas do país, id do restaurant e reservas de mesas e contar a quantidade de restaurantes que aceitam reserva\n",
    "booking_filter = df['has_table_booking'] == 1\n",
    "cols = ['country_name', 'has_table_booking']\n",
    "country_booking = ( df.loc[booking_filter, cols].groupby('country_name')\n",
    "                   .count()\n",
    "                   .sort_values(by='has_table_booking', ascending=False) \n",
    "                  .reset_index() )\n",
    "country_booking.columns = ['Country', 'Table Booking']\n",
    "country_booking"
   ]
  },
  {
   "cell_type": "markdown",
   "id": "ea246bc8-86c4-48fd-a50d-0933a3a68ef1",
   "metadata": {
    "jp-MarkdownHeadingCollapsed": true,
    "tags": []
   },
   "source": [
    "### 8. Qual o nome do país que possui, na média, a maior quantidade de avaliações registrada?"
   ]
  },
  {
   "cell_type": "code",
   "execution_count": 15,
   "id": "45651605-c0a5-4c00-9963-67680932e6da",
   "metadata": {},
   "outputs": [
    {
     "data": {
      "text/html": [
       "<div>\n",
       "<style scoped>\n",
       "    .dataframe tbody tr th:only-of-type {\n",
       "        vertical-align: middle;\n",
       "    }\n",
       "\n",
       "    .dataframe tbody tr th {\n",
       "        vertical-align: top;\n",
       "    }\n",
       "\n",
       "    .dataframe thead th {\n",
       "        text-align: right;\n",
       "    }\n",
       "</style>\n",
       "<table border=\"1\" class=\"dataframe\">\n",
       "  <thead>\n",
       "    <tr style=\"text-align: right;\">\n",
       "      <th></th>\n",
       "      <th>country_name</th>\n",
       "      <th>votes</th>\n",
       "    </tr>\n",
       "  </thead>\n",
       "  <tbody>\n",
       "    <tr>\n",
       "      <th>0</th>\n",
       "      <td>Indonesia</td>\n",
       "      <td>1113</td>\n",
       "    </tr>\n",
       "    <tr>\n",
       "      <th>1</th>\n",
       "      <td>India</td>\n",
       "      <td>902</td>\n",
       "    </tr>\n",
       "    <tr>\n",
       "      <th>2</th>\n",
       "      <td>Australia</td>\n",
       "      <td>731</td>\n",
       "    </tr>\n",
       "    <tr>\n",
       "      <th>3</th>\n",
       "      <td>Turkey</td>\n",
       "      <td>630</td>\n",
       "    </tr>\n",
       "    <tr>\n",
       "      <th>4</th>\n",
       "      <td>Philippines</td>\n",
       "      <td>605</td>\n",
       "    </tr>\n",
       "    <tr>\n",
       "      <th>5</th>\n",
       "      <td>United Arab Emirates</td>\n",
       "      <td>604</td>\n",
       "    </tr>\n",
       "    <tr>\n",
       "      <th>6</th>\n",
       "      <td>Canada</td>\n",
       "      <td>585</td>\n",
       "    </tr>\n",
       "    <tr>\n",
       "      <th>7</th>\n",
       "      <td>United States of America</td>\n",
       "      <td>381</td>\n",
       "    </tr>\n",
       "    <tr>\n",
       "      <th>8</th>\n",
       "      <td>Qatar</td>\n",
       "      <td>376</td>\n",
       "    </tr>\n",
       "    <tr>\n",
       "      <th>9</th>\n",
       "      <td>South Africa</td>\n",
       "      <td>239</td>\n",
       "    </tr>\n",
       "    <tr>\n",
       "      <th>10</th>\n",
       "      <td>New Zeland</td>\n",
       "      <td>222</td>\n",
       "    </tr>\n",
       "    <tr>\n",
       "      <th>11</th>\n",
       "      <td>Sri Lanka</td>\n",
       "      <td>152</td>\n",
       "    </tr>\n",
       "    <tr>\n",
       "      <th>12</th>\n",
       "      <td>England</td>\n",
       "      <td>102</td>\n",
       "    </tr>\n",
       "    <tr>\n",
       "      <th>13</th>\n",
       "      <td>Singapure</td>\n",
       "      <td>23</td>\n",
       "    </tr>\n",
       "    <tr>\n",
       "      <th>14</th>\n",
       "      <td>Brazil</td>\n",
       "      <td>13</td>\n",
       "    </tr>\n",
       "  </tbody>\n",
       "</table>\n",
       "</div>"
      ],
      "text/plain": [
       "                country_name  votes\n",
       "0                  Indonesia   1113\n",
       "1                      India    902\n",
       "2                  Australia    731\n",
       "3                     Turkey    630\n",
       "4                Philippines    605\n",
       "5       United Arab Emirates    604\n",
       "6                     Canada    585\n",
       "7   United States of America    381\n",
       "8                      Qatar    376\n",
       "9               South Africa    239\n",
       "10                New Zeland    222\n",
       "11                 Sri Lanka    152\n",
       "12                   England    102\n",
       "13                 Singapure     23\n",
       "14                    Brazil     13"
      ]
     },
     "execution_count": 15,
     "metadata": {},
     "output_type": "execute_result"
    }
   ],
   "source": [
    "# Selecionar as colunas do país e o agregado de votos, agrupar pelo país e calcular a média\n",
    "\n",
    "cols = ['country_name', 'votes']\n",
    "country_rating = df.loc[:, cols].groupby('country_name').mean().sort_values(by='votes', ascending=False).reset_index()\n",
    "country_rating"
   ]
  },
  {
   "cell_type": "markdown",
   "id": "eaf56fef-abe8-4ffa-b388-e080d96ef0cb",
   "metadata": {
    "jp-MarkdownHeadingCollapsed": true,
    "tags": []
   },
   "source": [
    "### 9. Qual o nome do país que possui, na média, a maior nota média registrada?"
   ]
  },
  {
   "cell_type": "code",
   "execution_count": 10,
   "id": "a5a0917c-4e02-43c1-8d88-ae6040156eed",
   "metadata": {},
   "outputs": [
    {
     "data": {
      "text/html": [
       "<div>\n",
       "<style scoped>\n",
       "    .dataframe tbody tr th:only-of-type {\n",
       "        vertical-align: middle;\n",
       "    }\n",
       "\n",
       "    .dataframe tbody tr th {\n",
       "        vertical-align: top;\n",
       "    }\n",
       "\n",
       "    .dataframe thead th {\n",
       "        text-align: right;\n",
       "    }\n",
       "</style>\n",
       "<table border=\"1\" class=\"dataframe\">\n",
       "  <thead>\n",
       "    <tr style=\"text-align: right;\">\n",
       "      <th></th>\n",
       "      <th>country_name</th>\n",
       "      <th>restaurant_id</th>\n",
       "      <th>aggregate_rating</th>\n",
       "    </tr>\n",
       "  </thead>\n",
       "  <tbody>\n",
       "    <tr>\n",
       "      <th>0</th>\n",
       "      <td>United States of America</td>\n",
       "      <td>18083405</td>\n",
       "      <td>5</td>\n",
       "    </tr>\n",
       "    <tr>\n",
       "      <th>1</th>\n",
       "      <td>Canada</td>\n",
       "      <td>18139426</td>\n",
       "      <td>5</td>\n",
       "    </tr>\n",
       "    <tr>\n",
       "      <th>2</th>\n",
       "      <td>Sri Lanka</td>\n",
       "      <td>18279085</td>\n",
       "      <td>5</td>\n",
       "    </tr>\n",
       "    <tr>\n",
       "      <th>3</th>\n",
       "      <td>Brazil</td>\n",
       "      <td>18334183</td>\n",
       "      <td>5</td>\n",
       "    </tr>\n",
       "    <tr>\n",
       "      <th>4</th>\n",
       "      <td>Australia</td>\n",
       "      <td>18441945</td>\n",
       "      <td>5</td>\n",
       "    </tr>\n",
       "    <tr>\n",
       "      <th>5</th>\n",
       "      <td>Singapure</td>\n",
       "      <td>18496115</td>\n",
       "      <td>5</td>\n",
       "    </tr>\n",
       "    <tr>\n",
       "      <th>6</th>\n",
       "      <td>Turkey</td>\n",
       "      <td>18514851</td>\n",
       "      <td>5</td>\n",
       "    </tr>\n",
       "    <tr>\n",
       "      <th>7</th>\n",
       "      <td>South Africa</td>\n",
       "      <td>18633161</td>\n",
       "      <td>5</td>\n",
       "    </tr>\n",
       "    <tr>\n",
       "      <th>8</th>\n",
       "      <td>Qatar</td>\n",
       "      <td>18729443</td>\n",
       "      <td>5</td>\n",
       "    </tr>\n",
       "    <tr>\n",
       "      <th>9</th>\n",
       "      <td>New Zeland</td>\n",
       "      <td>18749437</td>\n",
       "      <td>5</td>\n",
       "    </tr>\n",
       "    <tr>\n",
       "      <th>10</th>\n",
       "      <td>England</td>\n",
       "      <td>18758339</td>\n",
       "      <td>5</td>\n",
       "    </tr>\n",
       "    <tr>\n",
       "      <th>11</th>\n",
       "      <td>Philippines</td>\n",
       "      <td>18778547</td>\n",
       "      <td>5</td>\n",
       "    </tr>\n",
       "    <tr>\n",
       "      <th>12</th>\n",
       "      <td>United Arab Emirates</td>\n",
       "      <td>18970826</td>\n",
       "      <td>5</td>\n",
       "    </tr>\n",
       "    <tr>\n",
       "      <th>13</th>\n",
       "      <td>Indonesia</td>\n",
       "      <td>18981544</td>\n",
       "      <td>5</td>\n",
       "    </tr>\n",
       "    <tr>\n",
       "      <th>14</th>\n",
       "      <td>India</td>\n",
       "      <td>19008239</td>\n",
       "      <td>5</td>\n",
       "    </tr>\n",
       "  </tbody>\n",
       "</table>\n",
       "</div>"
      ],
      "text/plain": [
       "                country_name  restaurant_id  aggregate_rating\n",
       "0   United States of America       18083405                 5\n",
       "1                     Canada       18139426                 5\n",
       "2                  Sri Lanka       18279085                 5\n",
       "3                     Brazil       18334183                 5\n",
       "4                  Australia       18441945                 5\n",
       "5                  Singapure       18496115                 5\n",
       "6                     Turkey       18514851                 5\n",
       "7               South Africa       18633161                 5\n",
       "8                      Qatar       18729443                 5\n",
       "9                 New Zeland       18749437                 5\n",
       "10                   England       18758339                 5\n",
       "11               Philippines       18778547                 5\n",
       "12      United Arab Emirates       18970826                 5\n",
       "13                 Indonesia       18981544                 5\n",
       "14                     India       19008239                 5"
      ]
     },
     "execution_count": 10,
     "metadata": {},
     "output_type": "execute_result"
    }
   ],
   "source": [
    "# Selecionar a coluna país e votos agregados aplicando a função max() para recuperar o maior valor\n",
    "cols = ['restaurant_id', 'country_name', 'aggregate_rating']\n",
    "rating_max = df.loc[:, cols].groupby('country_name').max().sort_values(by='restaurant_id').reset_index()\n",
    "rating_max"
   ]
  },
  {
   "cell_type": "markdown",
   "id": "d950c7e2-343a-44e6-b134-228ffa86d57b",
   "metadata": {
    "jp-MarkdownHeadingCollapsed": true,
    "tags": []
   },
   "source": [
    "### 10. Qual o nome do país que possui, na média, a menor nota média registrada?"
   ]
  },
  {
   "cell_type": "code",
   "execution_count": null,
   "id": "b20a2ccf-2c29-49f5-bf27-09a58345e6cc",
   "metadata": {},
   "outputs": [],
   "source": [
    "# Selecionar a coluna país e votos agregados aplicando a função min() para recuperar o maior valor\n",
    "cols = ['restaurant_id', 'country_name', 'aggregate_rating']\n",
    "rating_min = df.loc[:, cols].groupby('country_name').min().sort_values(by='restaurant_id').reset_index()\n",
    "rating_min"
   ]
  },
  {
   "cell_type": "markdown",
   "id": "a38a3bd5-7f3e-43ec-ad9d-6b1a7ee50d6c",
   "metadata": {
    "jp-MarkdownHeadingCollapsed": true,
    "tags": []
   },
   "source": [
    "### 11. Qual a média de preço de um prato para dois por país?\n",
    "Seria a Austrália um outlier?"
   ]
  },
  {
   "cell_type": "code",
   "execution_count": 12,
   "id": "7494d812-48d6-432f-bfb8-1703dbc97ec2",
   "metadata": {},
   "outputs": [
    {
     "data": {
      "text/html": [
       "<div>\n",
       "<style scoped>\n",
       "    .dataframe tbody tr th:only-of-type {\n",
       "        vertical-align: middle;\n",
       "    }\n",
       "\n",
       "    .dataframe tbody tr th {\n",
       "        vertical-align: top;\n",
       "    }\n",
       "\n",
       "    .dataframe thead th {\n",
       "        text-align: right;\n",
       "    }\n",
       "</style>\n",
       "<table border=\"1\" class=\"dataframe\">\n",
       "  <thead>\n",
       "    <tr style=\"text-align: right;\">\n",
       "      <th></th>\n",
       "      <th>country_name</th>\n",
       "      <th>price_in_dollar</th>\n",
       "    </tr>\n",
       "  </thead>\n",
       "  <tbody>\n",
       "    <tr>\n",
       "      <th>0</th>\n",
       "      <td>Singapure</td>\n",
       "      <td>141</td>\n",
       "    </tr>\n",
       "    <tr>\n",
       "      <th>1</th>\n",
       "      <td>Philippines</td>\n",
       "      <td>96</td>\n",
       "    </tr>\n",
       "    <tr>\n",
       "      <th>2</th>\n",
       "      <td>Australia</td>\n",
       "      <td>72</td>\n",
       "    </tr>\n",
       "    <tr>\n",
       "      <th>3</th>\n",
       "      <td>United States of America</td>\n",
       "      <td>55</td>\n",
       "    </tr>\n",
       "    <tr>\n",
       "      <th>4</th>\n",
       "      <td>England</td>\n",
       "      <td>54</td>\n",
       "    </tr>\n",
       "    <tr>\n",
       "      <th>5</th>\n",
       "      <td>Qatar</td>\n",
       "      <td>48</td>\n",
       "    </tr>\n",
       "    <tr>\n",
       "      <th>6</th>\n",
       "      <td>United Arab Emirates</td>\n",
       "      <td>43</td>\n",
       "    </tr>\n",
       "    <tr>\n",
       "      <th>7</th>\n",
       "      <td>Canada</td>\n",
       "      <td>43</td>\n",
       "    </tr>\n",
       "    <tr>\n",
       "      <th>8</th>\n",
       "      <td>New Zeland</td>\n",
       "      <td>40</td>\n",
       "    </tr>\n",
       "    <tr>\n",
       "      <th>9</th>\n",
       "      <td>Brazil</td>\n",
       "      <td>27</td>\n",
       "    </tr>\n",
       "    <tr>\n",
       "      <th>10</th>\n",
       "      <td>South Africa</td>\n",
       "      <td>20</td>\n",
       "    </tr>\n",
       "    <tr>\n",
       "      <th>11</th>\n",
       "      <td>Indonesia</td>\n",
       "      <td>19</td>\n",
       "    </tr>\n",
       "    <tr>\n",
       "      <th>12</th>\n",
       "      <td>India</td>\n",
       "      <td>9</td>\n",
       "    </tr>\n",
       "    <tr>\n",
       "      <th>13</th>\n",
       "      <td>Sri Lanka</td>\n",
       "      <td>7</td>\n",
       "    </tr>\n",
       "    <tr>\n",
       "      <th>14</th>\n",
       "      <td>Turkey</td>\n",
       "      <td>7</td>\n",
       "    </tr>\n",
       "  </tbody>\n",
       "</table>\n",
       "</div>"
      ],
      "text/plain": [
       "                country_name  price_in_dollar\n",
       "0                  Singapure              141\n",
       "1                Philippines               96\n",
       "2                  Australia               72\n",
       "3   United States of America               55\n",
       "4                    England               54\n",
       "5                      Qatar               48\n",
       "6       United Arab Emirates               43\n",
       "7                     Canada               43\n",
       "8                 New Zeland               40\n",
       "9                     Brazil               27\n",
       "10              South Africa               20\n",
       "11                 Indonesia               19\n",
       "12                     India                9\n",
       "13                 Sri Lanka                7\n",
       "14                    Turkey                7"
      ]
     },
     "execution_count": 13,
     "metadata": {},
     "output_type": "execute_result"
    }
   ],
   "source": [
    "# Selecionar as colunas país e media de custo para dois, agrupar por país e calcular a média\n",
    "cols = ['country_name', 'price_in_dollar']\n",
    "mean_price_for_two = df.loc[:, cols].groupby('country_name').mean().sort_values('price_in_dollar', ascending=False).reset_index()\n",
    "mean_price_for_two"
   ]
  },
  {
   "cell_type": "markdown",
   "id": "73028edd-6be3-4259-99b3-a517810cd4e5",
   "metadata": {
    "jp-MarkdownHeadingCollapsed": true,
    "tags": []
   },
   "source": [
    "## 5. Visão Cidade"
   ]
  },
  {
   "cell_type": "markdown",
   "id": "1579cfc8-d95f-4c9c-934f-478849735cfd",
   "metadata": {
    "jp-MarkdownHeadingCollapsed": true,
    "tags": []
   },
   "source": [
    "### 1. Qual o nome da cidade que possui mais restaurantes registrados?"
   ]
  },
  {
   "cell_type": "code",
   "execution_count": 7,
   "id": "01029eb5-d5e3-4412-bc1a-9fcfd5086f13",
   "metadata": {},
   "outputs": [
    {
     "data": {
      "text/plain": [
       "array(['Excellent', 'Very Good', 'Good', 'Excelente', 'Muito bom',\n",
       "       'Average', 'Not rated', 'Poor', 'Vynikajúce', 'Muito Bom',\n",
       "       'Bardzo dobrze', 'Muy Bueno', 'Bueno', 'Baik', 'Biasa',\n",
       "       'Skvělá volba', 'Velmi dobré', 'Harika', 'Çok iyi', 'Eccellente',\n",
       "       'Veľmi dobré', 'Buono', 'Bom', 'Skvělé', 'Wybitnie', 'Sangat Baik',\n",
       "       'Terbaik', 'İyi'], dtype=object)"
      ]
     },
     "execution_count": 7,
     "metadata": {},
     "output_type": "execute_result"
    }
   ],
   "source": [
    "df['rating_text'].unique()"
   ]
  },
  {
   "cell_type": "code",
   "execution_count": 27,
   "id": "e090bfb0-812e-4ec1-8cda-c80118528318",
   "metadata": {},
   "outputs": [
    {
     "data": {
      "text/html": [
       "<div>\n",
       "<style scoped>\n",
       "    .dataframe tbody tr th:only-of-type {\n",
       "        vertical-align: middle;\n",
       "    }\n",
       "\n",
       "    .dataframe tbody tr th {\n",
       "        vertical-align: top;\n",
       "    }\n",
       "\n",
       "    .dataframe thead th {\n",
       "        text-align: right;\n",
       "    }\n",
       "</style>\n",
       "<table border=\"1\" class=\"dataframe\">\n",
       "  <thead>\n",
       "    <tr style=\"text-align: right;\">\n",
       "      <th></th>\n",
       "      <th>city</th>\n",
       "      <th>restaurant_id</th>\n",
       "    </tr>\n",
       "  </thead>\n",
       "  <tbody>\n",
       "    <tr>\n",
       "      <th>0</th>\n",
       "      <td>Abu Dhabi</td>\n",
       "      <td>80</td>\n",
       "    </tr>\n",
       "    <tr>\n",
       "      <th>1</th>\n",
       "      <td>Dallas</td>\n",
       "      <td>80</td>\n",
       "    </tr>\n",
       "    <tr>\n",
       "      <th>2</th>\n",
       "      <td>Doha</td>\n",
       "      <td>80</td>\n",
       "    </tr>\n",
       "    <tr>\n",
       "      <th>3</th>\n",
       "      <td>Dubai</td>\n",
       "      <td>80</td>\n",
       "    </tr>\n",
       "    <tr>\n",
       "      <th>4</th>\n",
       "      <td>Glasgow</td>\n",
       "      <td>80</td>\n",
       "    </tr>\n",
       "    <tr>\n",
       "      <th>5</th>\n",
       "      <td>Goa</td>\n",
       "      <td>80</td>\n",
       "    </tr>\n",
       "    <tr>\n",
       "      <th>6</th>\n",
       "      <td>Indore</td>\n",
       "      <td>80</td>\n",
       "    </tr>\n",
       "    <tr>\n",
       "      <th>7</th>\n",
       "      <td>Jaipur</td>\n",
       "      <td>80</td>\n",
       "    </tr>\n",
       "    <tr>\n",
       "      <th>8</th>\n",
       "      <td>Kanpur</td>\n",
       "      <td>80</td>\n",
       "    </tr>\n",
       "    <tr>\n",
       "      <th>9</th>\n",
       "      <td>Kochi</td>\n",
       "      <td>80</td>\n",
       "    </tr>\n",
       "  </tbody>\n",
       "</table>\n",
       "</div>"
      ],
      "text/plain": [
       "        city  restaurant_id\n",
       "0  Abu Dhabi             80\n",
       "1     Dallas             80\n",
       "2       Doha             80\n",
       "3      Dubai             80\n",
       "4    Glasgow             80\n",
       "5        Goa             80\n",
       "6     Indore             80\n",
       "7     Jaipur             80\n",
       "8     Kanpur             80\n",
       "9      Kochi             80"
      ]
     },
     "execution_count": 27,
     "metadata": {},
     "output_type": "execute_result"
    }
   ],
   "source": [
    "# Selecionar as colunas com nome do restaurante e cidade e fazer um sort values\n",
    "cols = ['city', 'restaurant_id']\n",
    "city_restaurant = df.loc[:, cols].groupby('city').count().sort_values(by='restaurant_id', ascending=False).reset_index()\n",
    "city_restaurant[:10]"
   ]
  },
  {
   "cell_type": "markdown",
   "id": "f1552cc4-6934-4a42-8553-efa99d6a607d",
   "metadata": {
    "jp-MarkdownHeadingCollapsed": true,
    "tags": []
   },
   "source": [
    "### 2. Qual o nome da cidade que possui mais restaurantes com nota média acima de 4?"
   ]
  },
  {
   "cell_type": "code",
   "execution_count": 57,
   "id": "6fb6f3e2-fdc3-4a9d-80d8-afe62ae96fe3",
   "metadata": {},
   "outputs": [
    {
     "data": {
      "text/html": [
       "<div>\n",
       "<style scoped>\n",
       "    .dataframe tbody tr th:only-of-type {\n",
       "        vertical-align: middle;\n",
       "    }\n",
       "\n",
       "    .dataframe tbody tr th {\n",
       "        vertical-align: top;\n",
       "    }\n",
       "\n",
       "    .dataframe thead th {\n",
       "        text-align: right;\n",
       "    }\n",
       "</style>\n",
       "<table border=\"1\" class=\"dataframe\">\n",
       "  <thead>\n",
       "    <tr style=\"text-align: right;\">\n",
       "      <th></th>\n",
       "      <th>Cidade</th>\n",
       "      <th>Número de Restaurantes</th>\n",
       "      <th>País</th>\n",
       "    </tr>\n",
       "  </thead>\n",
       "  <tbody>\n",
       "    <tr>\n",
       "      <th>0</th>\n",
       "      <td>Bangalore</td>\n",
       "      <td>79</td>\n",
       "      <td>79</td>\n",
       "    </tr>\n",
       "    <tr>\n",
       "      <th>1</th>\n",
       "      <td>London</td>\n",
       "      <td>78</td>\n",
       "      <td>78</td>\n",
       "    </tr>\n",
       "    <tr>\n",
       "      <th>2</th>\n",
       "      <td>Jakarta</td>\n",
       "      <td>74</td>\n",
       "      <td>74</td>\n",
       "    </tr>\n",
       "    <tr>\n",
       "      <th>3</th>\n",
       "      <td>Auckland</td>\n",
       "      <td>72</td>\n",
       "      <td>72</td>\n",
       "    </tr>\n",
       "    <tr>\n",
       "      <th>4</th>\n",
       "      <td>Chennai</td>\n",
       "      <td>72</td>\n",
       "      <td>72</td>\n",
       "    </tr>\n",
       "    <tr>\n",
       "      <th>...</th>\n",
       "      <td>...</td>\n",
       "      <td>...</td>\n",
       "      <td>...</td>\n",
       "    </tr>\n",
       "    <tr>\n",
       "      <th>116</th>\n",
       "      <td>Gandhinagar</td>\n",
       "      <td>1</td>\n",
       "      <td>1</td>\n",
       "    </tr>\n",
       "    <tr>\n",
       "      <th>117</th>\n",
       "      <td>Johannesburg South</td>\n",
       "      <td>1</td>\n",
       "      <td>1</td>\n",
       "    </tr>\n",
       "    <tr>\n",
       "      <th>118</th>\n",
       "      <td>Shimla</td>\n",
       "      <td>1</td>\n",
       "      <td>1</td>\n",
       "    </tr>\n",
       "    <tr>\n",
       "      <th>119</th>\n",
       "      <td>Roodepoort</td>\n",
       "      <td>1</td>\n",
       "      <td>1</td>\n",
       "    </tr>\n",
       "    <tr>\n",
       "      <th>120</th>\n",
       "      <td>Ghaziabad</td>\n",
       "      <td>1</td>\n",
       "      <td>1</td>\n",
       "    </tr>\n",
       "  </tbody>\n",
       "</table>\n",
       "<p>121 rows × 3 columns</p>\n",
       "</div>"
      ],
      "text/plain": [
       "                 Cidade  Número de Restaurantes  País\n",
       "0             Bangalore                      79    79\n",
       "1                London                      78    78\n",
       "2               Jakarta                      74    74\n",
       "3              Auckland                      72    72\n",
       "4               Chennai                      72    72\n",
       "..                  ...                     ...   ...\n",
       "116         Gandhinagar                       1     1\n",
       "117  Johannesburg South                       1     1\n",
       "118              Shimla                       1     1\n",
       "119          Roodepoort                       1     1\n",
       "120           Ghaziabad                       1     1\n",
       "\n",
       "[121 rows x 3 columns]"
      ]
     },
     "execution_count": 57,
     "metadata": {},
     "output_type": "execute_result"
    }
   ],
   "source": [
    "# Selecionar as colunas da cidade e id dos restaurantes, criar um filtro onde há apenas restaurantes com nota média acima de 4\n",
    "city_up_4 = df.loc[df['aggregate_rating'] > 4 , ['city', 'restaurant_id', 'country_name']].groupby('city').count().sort_values(by='restaurant_id', ascending=False).reset_index()\n",
    "city_up_4.columns = ['Cidade', 'Número de Restaurantes', 'País']\n",
    "city_up_4\n"
   ]
  },
  {
   "cell_type": "markdown",
   "id": "72e78337-7a13-487e-bc6f-2e8790133e03",
   "metadata": {
    "jp-MarkdownHeadingCollapsed": true,
    "tags": []
   },
   "source": [
    "### 3. Qual o nome da cidade que possui mais restaurantes com nota média abaixo de 2.5?"
   ]
  },
  {
   "cell_type": "code",
   "execution_count": 69,
   "id": "1a7345ae-39c0-4115-88a9-ed5c3da5fee1",
   "metadata": {},
   "outputs": [
    {
     "data": {
      "text/html": [
       "<div>\n",
       "<style scoped>\n",
       "    .dataframe tbody tr th:only-of-type {\n",
       "        vertical-align: middle;\n",
       "    }\n",
       "\n",
       "    .dataframe tbody tr th {\n",
       "        vertical-align: top;\n",
       "    }\n",
       "\n",
       "    .dataframe thead th {\n",
       "        text-align: right;\n",
       "    }\n",
       "</style>\n",
       "<table border=\"1\" class=\"dataframe\">\n",
       "  <thead>\n",
       "    <tr style=\"text-align: right;\">\n",
       "      <th></th>\n",
       "      <th>cidades</th>\n",
       "      <th>número de restaurantes</th>\n",
       "    </tr>\n",
       "  </thead>\n",
       "  <tbody>\n",
       "    <tr>\n",
       "      <th>0</th>\n",
       "      <td>Gangtok</td>\n",
       "      <td>32</td>\n",
       "    </tr>\n",
       "    <tr>\n",
       "      <th>1</th>\n",
       "      <td>Ooty</td>\n",
       "      <td>19</td>\n",
       "    </tr>\n",
       "    <tr>\n",
       "      <th>2</th>\n",
       "      <td>Brasília</td>\n",
       "      <td>14</td>\n",
       "    </tr>\n",
       "    <tr>\n",
       "      <th>3</th>\n",
       "      <td>São Paulo</td>\n",
       "      <td>13</td>\n",
       "    </tr>\n",
       "    <tr>\n",
       "      <th>4</th>\n",
       "      <td>Rio de Janeiro</td>\n",
       "      <td>12</td>\n",
       "    </tr>\n",
       "    <tr>\n",
       "      <th>5</th>\n",
       "      <td>Manchester</td>\n",
       "      <td>5</td>\n",
       "    </tr>\n",
       "    <tr>\n",
       "      <th>6</th>\n",
       "      <td>Clarens</td>\n",
       "      <td>4</td>\n",
       "    </tr>\n",
       "    <tr>\n",
       "      <th>7</th>\n",
       "      <td>Hamilton</td>\n",
       "      <td>2</td>\n",
       "    </tr>\n",
       "    <tr>\n",
       "      <th>8</th>\n",
       "      <td>Puducherry</td>\n",
       "      <td>2</td>\n",
       "    </tr>\n",
       "    <tr>\n",
       "      <th>9</th>\n",
       "      <td>Ankara</td>\n",
       "      <td>1</td>\n",
       "    </tr>\n",
       "    <tr>\n",
       "      <th>10</th>\n",
       "      <td>Colombo</td>\n",
       "      <td>1</td>\n",
       "    </tr>\n",
       "    <tr>\n",
       "      <th>11</th>\n",
       "      <td>Durban</td>\n",
       "      <td>1</td>\n",
       "    </tr>\n",
       "    <tr>\n",
       "      <th>12</th>\n",
       "      <td>Nashik</td>\n",
       "      <td>1</td>\n",
       "    </tr>\n",
       "    <tr>\n",
       "      <th>13</th>\n",
       "      <td>Perth</td>\n",
       "      <td>1</td>\n",
       "    </tr>\n",
       "    <tr>\n",
       "      <th>14</th>\n",
       "      <td>Pretoria</td>\n",
       "      <td>1</td>\n",
       "    </tr>\n",
       "    <tr>\n",
       "      <th>15</th>\n",
       "      <td>Shimla</td>\n",
       "      <td>1</td>\n",
       "    </tr>\n",
       "  </tbody>\n",
       "</table>\n",
       "</div>"
      ],
      "text/plain": [
       "           cidades  número de restaurantes\n",
       "0          Gangtok                      32\n",
       "1             Ooty                      19\n",
       "2         Brasília                      14\n",
       "3        São Paulo                      13\n",
       "4   Rio de Janeiro                      12\n",
       "5       Manchester                       5\n",
       "6          Clarens                       4\n",
       "7         Hamilton                       2\n",
       "8       Puducherry                       2\n",
       "9           Ankara                       1\n",
       "10         Colombo                       1\n",
       "11          Durban                       1\n",
       "12          Nashik                       1\n",
       "13           Perth                       1\n",
       "14        Pretoria                       1\n",
       "15          Shimla                       1"
      ]
     },
     "execution_count": 69,
     "metadata": {},
     "output_type": "execute_result"
    }
   ],
   "source": [
    "# Selecionar as colunas da cidade e id restaurantes e fazer um filtro onde a nota média é abaixo de 2.5\n",
    "city_down_2 = ( df.loc[df['aggregate_rating'] < 2.5 , ['city', 'restaurant_id']].groupby('city')\n",
    "                                                                              .count()\n",
    "                                                                              .sort_values(by='restaurant_id', ascending=False)\n",
    "                                                                              .reset_index() )\n",
    "                                                                    \n",
    "city_down_2.columns = ['cidades', 'número de restaurantes']\n",
    "city_down_2"
   ]
  },
  {
   "cell_type": "markdown",
   "id": "c9e8e920-1ea4-42b5-9c3d-f090dcaebae6",
   "metadata": {
    "jp-MarkdownHeadingCollapsed": true,
    "tags": []
   },
   "source": [
    "### 4. Qual o nome da cidade que possui o maior valor médio de um prato para dois?"
   ]
  },
  {
   "cell_type": "code",
   "execution_count": null,
   "id": "36eb26b0-8464-44f7-8ce0-d46d24749f92",
   "metadata": {},
   "outputs": [],
   "source": [
    "# Selecionar as colunas cidade e prato para dois e aplicar um sort_values\n",
    "cols = ['city', 'price_in_dollar']\n",
    "city_expensive_2 = df.loc[:, cols].sort_values(by='price_in_dollar', ascending=False)\n",
    "city_expensive_2"
   ]
  },
  {
   "cell_type": "markdown",
   "id": "f5515c99-dc40-4e07-802c-8ee9751a37ed",
   "metadata": {
    "jp-MarkdownHeadingCollapsed": true,
    "tags": []
   },
   "source": [
    "### 5. Qual o nome da cidade que possui a maior quantidade de tipos de culinária distintas?"
   ]
  },
  {
   "cell_type": "code",
   "execution_count": null,
   "id": "1aaf3a23-a637-4649-accd-8468d3e8ea27",
   "metadata": {},
   "outputs": [],
   "source": [
    "# Selecionar as colunas cidade e fazer uma contagem unica dos tipos de culinária\n",
    "cols = ['city', 'cuisines']\n",
    "city_cuisines_unique = df.loc[:, cols].groupby('city').nunique().sort_values(by='cuisines', ascending=False).reset_index()\n",
    "city_cuisines_unique"
   ]
  },
  {
   "cell_type": "markdown",
   "id": "6b7e23c6-81a1-4fcf-93c0-53c9033ff6a6",
   "metadata": {
    "jp-MarkdownHeadingCollapsed": true,
    "tags": []
   },
   "source": [
    "### 6. Qual o nome da cidade que possui a maior quantidade de restaurantes que fazem reservas?"
   ]
  },
  {
   "cell_type": "code",
   "execution_count": null,
   "id": "2436d56c-9817-40c7-8ab1-aa378ccca407",
   "metadata": {},
   "outputs": [],
   "source": [
    "filter_booking = df['has_table_booking'] == 1\n",
    "cols = ['city', 'has_table_booking']\n",
    "\n",
    "df.loc[filter_booking, cols].groupby('city').count().sort_values(by='has_table_booking', ascending=False).reset_index()\n"
   ]
  },
  {
   "cell_type": "markdown",
   "id": "36699698-3352-4597-af8e-137501d2c7c2",
   "metadata": {
    "jp-MarkdownHeadingCollapsed": true,
    "tags": []
   },
   "source": [
    "### 7. Qual o nome da cidade que possui a maior quantidade de restaurantes que fazem entregas?"
   ]
  },
  {
   "cell_type": "code",
   "execution_count": null,
   "id": "d97c66f7-642d-4aad-9864-76f7fb052d2d",
   "metadata": {},
   "outputs": [],
   "source": [
    "df.columns"
   ]
  },
  {
   "cell_type": "code",
   "execution_count": null,
   "id": "ce7a49f4-9c2f-43b5-af03-c2f476934160",
   "metadata": {},
   "outputs": [],
   "source": [
    "cols = ['city', 'is_delivering_now']\n",
    "filter_delivery = df['is_delivering_now'] == 1\n",
    "city_delivery = ( df.loc[filter_delivery, cols].groupby('city')\n",
    "                 .count()\n",
    "                 .sort_values(by='is_delivering_now', ascending=False)\n",
    "                 .reset_index() )\n",
    "city_delivery"
   ]
  },
  {
   "cell_type": "markdown",
   "id": "a8003aa8-3958-4f53-8d70-65a2cc7f7185",
   "metadata": {
    "jp-MarkdownHeadingCollapsed": true,
    "tags": []
   },
   "source": [
    "### 8. Qual o nome da cidade que possui a maior quantidade de restaurantes que aceitam pedidos online?"
   ]
  },
  {
   "cell_type": "code",
   "execution_count": null,
   "id": "fc193e62-1ce1-471d-95a8-6141d19b44a1",
   "metadata": {},
   "outputs": [],
   "source": [
    "cols = ['city', 'has_online_delivery']\n",
    "filter_delivery = df['has_online_delivery'] == 1\n",
    "city_delivery = ( df.loc[filter_delivery, cols].groupby('city')\n",
    "                 .count()\n",
    "                 .sort_values(by='has_online_delivery', ascending=False)\n",
    "                 .reset_index() )\n",
    "city_delivery"
   ]
  },
  {
   "cell_type": "markdown",
   "id": "e8c7a2c8-c46f-4c6c-813e-e4d66773fb0a",
   "metadata": {
    "jp-MarkdownHeadingCollapsed": true,
    "tags": []
   },
   "source": [
    "## 6. Visão Restaurantes"
   ]
  },
  {
   "cell_type": "code",
   "execution_count": 28,
   "id": "87e5c42c-97b9-43fc-9ec3-b9a736102bd2",
   "metadata": {},
   "outputs": [
    {
     "data": {
      "text/html": [
       "<div>\n",
       "<style scoped>\n",
       "    .dataframe tbody tr th:only-of-type {\n",
       "        vertical-align: middle;\n",
       "    }\n",
       "\n",
       "    .dataframe tbody tr th {\n",
       "        vertical-align: top;\n",
       "    }\n",
       "\n",
       "    .dataframe thead th {\n",
       "        text-align: right;\n",
       "    }\n",
       "</style>\n",
       "<table border=\"1\" class=\"dataframe\">\n",
       "  <thead>\n",
       "    <tr style=\"text-align: right;\">\n",
       "      <th></th>\n",
       "      <th>country_name</th>\n",
       "      <th>restaurant_id</th>\n",
       "    </tr>\n",
       "  </thead>\n",
       "  <tbody>\n",
       "    <tr>\n",
       "      <th>0</th>\n",
       "      <td>India</td>\n",
       "      <td>3106</td>\n",
       "    </tr>\n",
       "    <tr>\n",
       "      <th>1</th>\n",
       "      <td>United States of America</td>\n",
       "      <td>1365</td>\n",
       "    </tr>\n",
       "    <tr>\n",
       "      <th>2</th>\n",
       "      <td>England</td>\n",
       "      <td>392</td>\n",
       "    </tr>\n",
       "    <tr>\n",
       "      <th>3</th>\n",
       "      <td>South Africa</td>\n",
       "      <td>341</td>\n",
       "    </tr>\n",
       "    <tr>\n",
       "      <th>4</th>\n",
       "      <td>United Arab Emirates</td>\n",
       "      <td>294</td>\n",
       "    </tr>\n",
       "    <tr>\n",
       "      <th>5</th>\n",
       "      <td>New Zeland</td>\n",
       "      <td>235</td>\n",
       "    </tr>\n",
       "    <tr>\n",
       "      <th>6</th>\n",
       "      <td>Brazil</td>\n",
       "      <td>234</td>\n",
       "    </tr>\n",
       "    <tr>\n",
       "      <th>7</th>\n",
       "      <td>Canada</td>\n",
       "      <td>177</td>\n",
       "    </tr>\n",
       "    <tr>\n",
       "      <th>8</th>\n",
       "      <td>Australia</td>\n",
       "      <td>176</td>\n",
       "    </tr>\n",
       "    <tr>\n",
       "      <th>9</th>\n",
       "      <td>Turkey</td>\n",
       "      <td>159</td>\n",
       "    </tr>\n",
       "    <tr>\n",
       "      <th>10</th>\n",
       "      <td>Indonesia</td>\n",
       "      <td>80</td>\n",
       "    </tr>\n",
       "    <tr>\n",
       "      <th>11</th>\n",
       "      <td>Philippines</td>\n",
       "      <td>80</td>\n",
       "    </tr>\n",
       "    <tr>\n",
       "      <th>12</th>\n",
       "      <td>Qatar</td>\n",
       "      <td>80</td>\n",
       "    </tr>\n",
       "    <tr>\n",
       "      <th>13</th>\n",
       "      <td>Singapure</td>\n",
       "      <td>80</td>\n",
       "    </tr>\n",
       "    <tr>\n",
       "      <th>14</th>\n",
       "      <td>Sri Lanka</td>\n",
       "      <td>79</td>\n",
       "    </tr>\n",
       "  </tbody>\n",
       "</table>\n",
       "</div>"
      ],
      "text/plain": [
       "                country_name  restaurant_id\n",
       "0                      India           3106\n",
       "1   United States of America           1365\n",
       "2                    England            392\n",
       "3               South Africa            341\n",
       "4       United Arab Emirates            294\n",
       "5                 New Zeland            235\n",
       "6                     Brazil            234\n",
       "7                     Canada            177\n",
       "8                  Australia            176\n",
       "9                     Turkey            159\n",
       "10                 Indonesia             80\n",
       "11               Philippines             80\n",
       "12                     Qatar             80\n",
       "13                 Singapure             80\n",
       "14                 Sri Lanka             79"
      ]
     },
     "execution_count": 28,
     "metadata": {},
     "output_type": "execute_result"
    }
   ],
   "source": [
    "df[['restaurant_id', 'country_name']].groupby('country_name').count().sort_values('restaurant_id', ascending=False).reset_index()"
   ]
  },
  {
   "cell_type": "markdown",
   "id": "9a4b6a17-8c2f-445f-a8d1-ad0fad152d2d",
   "metadata": {
    "jp-MarkdownHeadingCollapsed": true,
    "tags": []
   },
   "source": [
    "### 1. Qual o nome do restaurante que possui a maior quantidade de avaliações?"
   ]
  },
  {
   "cell_type": "code",
   "execution_count": null,
   "id": "2e331b88-84e2-4154-8b23-7bd7acd712f9",
   "metadata": {},
   "outputs": [],
   "source": [
    "# df.loc[:, ['restaurant_name', 'votes']].groupby('restaurant_name').max().sort_values(by='votes', ascending=False).reset_index()\n",
    "restaurant_rating = df[['restaurant_name', 'votes']].sort_values(by='votes', ascending=False)\n",
    "restaurant_rating.head(10)"
   ]
  },
  {
   "cell_type": "markdown",
   "id": "3fe9cba6-417d-4bea-a7ed-57bea344cc9b",
   "metadata": {
    "jp-MarkdownHeadingCollapsed": true,
    "tags": []
   },
   "source": [
    "### 2. Qual o nome do restaurante com a maior nota média?"
   ]
  },
  {
   "cell_type": "code",
   "execution_count": null,
   "id": "21c150eb-c280-4dcb-bb18-40e3aca6c638",
   "metadata": {},
   "outputs": [],
   "source": [
    "restaurant_aggregate_rating = ( df.loc[:, ['restaurant_name', 'aggregate_rating']].groupby('restaurant_name')\n",
    "                               .max()\n",
    "                               .sort_values(by='aggregate_rating', ascending=False)\n",
    "                               .reset_index())\n",
    "restaurant_aggregate_rating"
   ]
  },
  {
   "cell_type": "markdown",
   "id": "98b313ad-a925-439d-bb41-7b09b08a622d",
   "metadata": {
    "jp-MarkdownHeadingCollapsed": true,
    "tags": []
   },
   "source": [
    "### 3. Qual o nome do restaurante que possui o maior valor de uma prato para duas pessoas?"
   ]
  },
  {
   "cell_type": "code",
   "execution_count": null,
   "id": "fea1e3c4-6de6-4504-9cd3-8e61a635bb77",
   "metadata": {},
   "outputs": [],
   "source": [
    "# df.loc[:, ['restaurant_name', 'price_in_dollar']].sort_values(by='price_in_dollar', ascending=False)\n",
    "restaurant_expensive_plate = ( df.loc[:, ['restaurant_name', 'country_name', 'price_in_dollar']].groupby('restaurant_name')\n",
    "                              .max()\n",
    "                              .sort_values(by='price_in_dollar', ascending=False)\n",
    "                              .reset_index() )\n",
    "restaurant_expensive_plate"
   ]
  },
  {
   "cell_type": "markdown",
   "id": "fee7f241-0fa8-4238-8a32-7e57c709e849",
   "metadata": {
    "jp-MarkdownHeadingCollapsed": true,
    "tags": []
   },
   "source": [
    "### 4. Qual o nome do restaurante de tipo de culinária brasileira que possui a menor média de avaliação?\n",
    "Como haviam vários outros dados com o mesmo valor de avaliação, a premissa foi de que o restaurante com o id menor (ou seja, mais antigo), seria o dado computado"
   ]
  },
  {
   "cell_type": "code",
   "execution_count": null,
   "id": "1b02d9ca-0723-472c-bd42-f05359830a9d",
   "metadata": {},
   "outputs": [],
   "source": [
    "filter_cuisines_rating = (df['cuisines'] == 'Brazilian') & (df['aggregate_rating'] == df['aggregate_rating'].min())\n",
    "cols = ['restaurant_id', 'restaurant_name', 'cuisines', 'aggregate_rating']\n",
    "restaurant_brazilian = ( df.loc[filter_cuisines_rating, cols].groupby(['restaurant_name'])\n",
    "                                                                                     .min()\n",
    "                                                                                     .sort_values(by='restaurant_id')\n",
    "                                                                                     .reset_index() )\n",
    "restaurant_brazilian.head(1)"
   ]
  },
  {
   "cell_type": "code",
   "execution_count": null,
   "id": "b0c3ef84-bb14-4fd4-af99-8476c4a17ea3",
   "metadata": {},
   "outputs": [],
   "source": [
    "filtro = (df['cuisines'] == 'Brazilian') & (df['aggregate_rating'] == df['aggregate_rating'].min())\n",
    "cols = ['restaurant_id', 'restaurant_name', 'country_name', 'votes', 'aggregate_rating']\n",
    "df.loc[filtro, cols].sort_values(by='restaurant_id')"
   ]
  },
  {
   "cell_type": "markdown",
   "id": "206e2e26-29ec-4442-ba6a-9101e6b2ce50",
   "metadata": {
    "jp-MarkdownHeadingCollapsed": true,
    "tags": []
   },
   "source": [
    "### 5. Qual o nome do restaurante de tipo de culinária brasileira, e que é do Brasil, que possui a maior média de avaliação?"
   ]
  },
  {
   "cell_type": "code",
   "execution_count": null,
   "id": "1f020cfa-5607-4c22-a161-42f34f6902f1",
   "metadata": {},
   "outputs": [],
   "source": [
    "cols = ['restaurant_name', 'cuisines', 'country_name', 'aggregate_rating']\n",
    "filter_cuisine =  (df['cuisines'] == 'Brazilian') & (df['country_name'] == 'Brazil') & (df['aggregate_rating'] == df['aggregate_rating'].max())\n",
    "\n",
    "restaurant_aggregate_rating = df.loc[filter_cuisine, cols].sort_values(by='aggregate_rating', ascending=False)\n",
    "print(f'O restaurante brasileiro que possui a maior média de avaliação é o {restaurant_aggregate_rating.iloc[0,0]} com uma avaliação de {restaurant_aggregate_rating.iloc[0,3]}')"
   ]
  },
  {
   "cell_type": "markdown",
   "id": "77d282de-7e73-496f-a6f5-eb8634dab039",
   "metadata": {
    "jp-MarkdownHeadingCollapsed": true,
    "tags": []
   },
   "source": [
    "### 6. Os restaurantes que aceitam pedido online são também, na média, os restaurantes que mais possuem avaliações registradas?"
   ]
  },
  {
   "cell_type": "code",
   "execution_count": null,
   "id": "c26452bd-25f5-4bde-a042-a6b8ada9891d",
   "metadata": {},
   "outputs": [],
   "source": [
    "# Média\n",
    "online_delivery_yes_mean = df.loc[df['has_online_delivery'] == 1, ['votes']].mean()\n",
    "online_delivery_no_mean = df.loc[df['has_online_delivery'] == 0, 'votes'].mean()\n",
    "\n",
    "# Quantidade de votos\n",
    "online_delivery_yes_count = df.loc[df['has_online_delivery'] == 1, 'votes'].sum()\n",
    "online_delivery_no_count = df.loc[df['has_online_delivery'] == 0, 'votes'].sum()\n",
    "\n",
    "print(f'Aceitam Pedidos Online: {online_delivery_yes_count} votos | Média de votos: {online_delivery_yes.round()}')\n",
    "print(f'Não Aceitam Pedidos Online: {online_delivery_no_count} votos | Média de votos: {online_delivery_no.round()}')"
   ]
  },
  {
   "cell_type": "markdown",
   "id": "72087249-9e52-4209-8ffa-980cea6afa5e",
   "metadata": {
    "jp-MarkdownHeadingCollapsed": true,
    "tags": []
   },
   "source": [
    "### 7. Os restaurantes que fazem reservas são também, na média, os restaurantes que possuem o maior valor médio de um prato para duas pessoas?"
   ]
  },
  {
   "cell_type": "code",
   "execution_count": null,
   "id": "b965e871-da7d-4b17-85c4-3bc99126d644",
   "metadata": {},
   "outputs": [],
   "source": [
    "table_booking_yes = df.loc[df['has_table_booking'] == 1, 'price_in_dollar' ].mean()\n",
    "table_booking_yes"
   ]
  },
  {
   "cell_type": "code",
   "execution_count": null,
   "id": "fd92d194-c362-49e4-bcd5-8be7f326a5a3",
   "metadata": {},
   "outputs": [],
   "source": [
    "table_booking_no = df.loc[df['has_table_booking'] == 0, 'price_in_dollar' ].mean()\n",
    "table_booking_no"
   ]
  },
  {
   "cell_type": "markdown",
   "id": "2c92cb67-95e6-46a2-b345-b9c5088517ba",
   "metadata": {
    "jp-MarkdownHeadingCollapsed": true,
    "tags": []
   },
   "source": [
    "### 8. Os restaurantes do tipo de culinária japonesa dos Estados Unidos da América possuem um valor médio de prato para duas pessoas maior que as churrascarias americanas (BBQ)?"
   ]
  },
  {
   "cell_type": "code",
   "execution_count": null,
   "id": "f8164375-8015-4616-9812-a333588432b8",
   "metadata": {},
   "outputs": [],
   "source": [
    "cuisine_japan = df.loc[ (df['cuisines'] == 'Japanese') & (df['country_name'] == 'United States of America'), 'price_in_dollar'].mean()\n",
    "cuisine_japan"
   ]
  },
  {
   "cell_type": "code",
   "execution_count": null,
   "id": "427947a2-fef7-483c-ba9e-925f215f85e2",
   "metadata": {},
   "outputs": [],
   "source": [
    "cuisine_bbq = df.loc[ (df['cuisines'] == 'BBQ') & (df['country_name'] == 'United States of America'), 'price_in_dollar'].mean()\n",
    "cuisine_bbq"
   ]
  },
  {
   "cell_type": "markdown",
   "id": "025f1e06-07ad-4cae-9f08-574cf15b02e3",
   "metadata": {
    "tags": []
   },
   "source": [
    "## 7. Tipos de Culinária"
   ]
  },
  {
   "cell_type": "markdown",
   "id": "a1157e8c-4998-4e87-9586-0f0e74da86fd",
   "metadata": {
    "jp-MarkdownHeadingCollapsed": true,
    "tags": []
   },
   "source": [
    "### 1. Dos restaurantes que possuem o tipo de culinária italiana, qual o nome do restaurante com a maior média de avaliação?"
   ]
  },
  {
   "cell_type": "code",
   "execution_count": null,
   "id": "6d61433b-d4dc-47d0-8f89-684cbd3edfe4",
   "metadata": {},
   "outputs": [],
   "source": [
    "cols = ['restaurant_id', 'restaurant_name', 'cuisines', 'aggregate_rating']\n",
    "cuisine_italian = df['cuisines'] == 'Italian' \n",
    "restaurant_max_rating = df.loc[cuisine_italian, cols].sort_values(by='aggregate_rating', ascending=False)\n",
    "restaurant_max_rating"
   ]
  },
  {
   "cell_type": "markdown",
   "id": "990eba32-f423-4fa1-8b10-cc1afe79a5f6",
   "metadata": {
    "jp-MarkdownHeadingCollapsed": true,
    "tags": []
   },
   "source": [
    "### 2. Dos restaurantes que possuem o tipo de culinária italiana, qual o nome do restaurante com a menor média de avaliação?"
   ]
  },
  {
   "cell_type": "code",
   "execution_count": null,
   "id": "add175ac-2032-4c8e-b44b-c0133856c919",
   "metadata": {},
   "outputs": [],
   "source": [
    "cols = ['restaurant_id', 'restaurant_name', 'cuisines', 'aggregate_rating']\n",
    "cuisine_italian = df['cuisines'] == 'Italian' \n",
    "restaurant_max_rating = df.loc[cuisine_italian, cols].sort_values(by='aggregate_rating')\n",
    "restaurant_max_rating"
   ]
  },
  {
   "cell_type": "markdown",
   "id": "aa86ca77-54bc-4ca4-8d2d-91287e0e5e20",
   "metadata": {
    "jp-MarkdownHeadingCollapsed": true,
    "tags": []
   },
   "source": [
    "### 3. Dos restaurantes que possuem o tipo de culinária americana, qual o nome do restaurante com a maior média de avaliação?"
   ]
  },
  {
   "cell_type": "code",
   "execution_count": null,
   "id": "efb2ab52-4de4-47b6-850f-cba05fffb1d5",
   "metadata": {},
   "outputs": [],
   "source": [
    "cols = ['restaurant_name', 'cuisines','aggregate_rating']\n",
    "cuisine_american = df['cuisines'] == 'American'\n",
    "restaurant_min_mean = df.loc[cuisine_american, cols].sort_values(by='aggregate_rating', ascending=False)\n",
    "restaurant_min_mean"
   ]
  },
  {
   "cell_type": "markdown",
   "id": "add12ed6-8ea4-4484-ad7d-1eec809375b5",
   "metadata": {
    "jp-MarkdownHeadingCollapsed": true,
    "tags": []
   },
   "source": [
    "### 4. Dos restaurantes que possuem o tipo de culinária americana, qual o nome do restaurante com a menor média de avaliação?"
   ]
  },
  {
   "cell_type": "code",
   "execution_count": null,
   "id": "8db72ecd-b02b-4b9a-bc5a-a57b3f419a11",
   "metadata": {},
   "outputs": [],
   "source": [
    "cols = ['restaurant_name', 'cuisines','aggregate_rating']\n",
    "cuisine_american = df['cuisines'] == 'American'\n",
    "restaurant_min_mean = df.loc[cuisine_american, cols].sort_values(by='aggregate_rating')\n",
    "restaurant_min_mean"
   ]
  },
  {
   "cell_type": "markdown",
   "id": "606798db-f88f-40f2-ac54-94abec9c1eff",
   "metadata": {
    "jp-MarkdownHeadingCollapsed": true,
    "tags": []
   },
   "source": [
    "### 5. Dos restaurantes que possuem o tipo de culinária árabe, qual o nome do restaurante com a maior média de avaliação?\n"
   ]
  },
  {
   "cell_type": "code",
   "execution_count": null,
   "id": "905065fd-2bfa-44cf-803c-5a108eccd851",
   "metadata": {},
   "outputs": [],
   "source": [
    "cols = ['restaurant_name', 'cuisines', 'aggregate_rating']\n",
    "cuisine_arabian = df['cuisines'] == 'Arabian' \n",
    "restaurant_max_mean = df.loc[cuisine_arabian, cols].sort_values(by='aggregate_rating', ascending=False)\n",
    "restaurant_max_mean"
   ]
  },
  {
   "cell_type": "markdown",
   "id": "c6318d4f-8eab-4ed7-abce-11bf257a650c",
   "metadata": {
    "jp-MarkdownHeadingCollapsed": true,
    "tags": []
   },
   "source": [
    "### 6. Dos restaurantes que possuem o tipo de culinária árabe, qual o nome do restaurante com a menor média de avaliação?"
   ]
  },
  {
   "cell_type": "code",
   "execution_count": null,
   "id": "525794e5-6c48-41ed-9fbb-fe462a93780b",
   "metadata": {},
   "outputs": [],
   "source": [
    "cols = ['restaurant_name', 'cuisines', 'aggregate_rating']\n",
    "cuisine_arabian = df['cuisines'] == 'Arabian' \n",
    "restaurant_min_mean = df.loc[cuisine_arabian, cols].sort_values(by='aggregate_rating')\n",
    "restaurant_min_mean.head()\n"
   ]
  },
  {
   "cell_type": "markdown",
   "id": "9554dd4d-239c-4dfa-8cb2-977d4c1e278e",
   "metadata": {
    "jp-MarkdownHeadingCollapsed": true,
    "tags": []
   },
   "source": [
    "### 7. Dos restaurantes que possuem o tipo de culinária japonesa, qual o nome do restaurante com a maior média de avaliação?"
   ]
  },
  {
   "cell_type": "code",
   "execution_count": null,
   "id": "4b1d3f83-b902-4e04-b9f1-8a3d8b4f4e04",
   "metadata": {},
   "outputs": [],
   "source": [
    "cols = ['restaurant_name', 'cuisines', 'aggregate_rating']\n",
    "cuisine_japanese = df['cuisines'] == 'Japanese'\n",
    "restaurant_max_mean = df.loc[cuisine_japanese, cols].sort_values(by='aggregate_rating', ascending=False)\n",
    "restaurant_max_mean.head()"
   ]
  },
  {
   "cell_type": "markdown",
   "id": "72ebfc06-7b67-4859-87d3-6198fdb42d19",
   "metadata": {
    "jp-MarkdownHeadingCollapsed": true,
    "tags": []
   },
   "source": [
    "### 8. Dos restaurantes que possuem o tipo de culinária japonesa, qual o nome do restaurante com a menor média de avaliação?"
   ]
  },
  {
   "cell_type": "code",
   "execution_count": null,
   "id": "73f1fc4d-a181-427d-bb8d-88a539e2c4dd",
   "metadata": {},
   "outputs": [],
   "source": [
    "cols = ['restaurant_id', 'restaurant_name', 'cuisines', 'aggregate_rating']\n",
    "cuisine_italian = df['cuisines'] == 'Japanese'\n",
    "restaurant_max_rating = df.loc[cuisine_italian, cols].sort_values(by='aggregate_rating')\n",
    "restaurant_max_rating.head()"
   ]
  },
  {
   "cell_type": "markdown",
   "id": "9719e07f-183a-4892-98d0-972314e001d6",
   "metadata": {
    "jp-MarkdownHeadingCollapsed": true,
    "tags": []
   },
   "source": [
    "### 9. Dos restaurantes que possuem o tipo de culinária caseira, qual o nome do restaurante com a maior média de avaliação?\n",
    "Caso uma pergunta tenha dois registros como resposta,\n",
    "selecione sempre o registro com o valor da coluna \"Restaurant\n",
    "ID\" menor, assim iremos pegar o restaurante que está há mais tempo\n",
    "cadastrado na base de dados.\n"
   ]
  },
  {
   "cell_type": "code",
   "execution_count": null,
   "id": "e9755016-187d-485d-8756-d3f39803a023",
   "metadata": {},
   "outputs": [],
   "source": [
    "cols = ['restaurant_id', 'restaurant_name', 'cuisines', 'aggregate_rating']\n",
    "cuisine_italian = df['cuisines'] == 'Home-made'\n",
    "restaurant_max_rating = df.loc[cuisine_italian, cols].sort_values(by='restaurant_id', ascending=False)\n",
    "restaurant_max_rating"
   ]
  },
  {
   "cell_type": "markdown",
   "id": "881833a7-7a0a-4256-a594-7470df1b8ee5",
   "metadata": {
    "jp-MarkdownHeadingCollapsed": true,
    "tags": []
   },
   "source": [
    "### 10. Dos restaurantes que possuem o tipo de culinária caseira, qual o nome do restaurante com a menor média de avaliação?\n",
    "Caso uma pergunta tenha dois registros como resposta,\n",
    "selecione sempre o registro com o valor da coluna \"Restaurant\n",
    "ID\" menor, assim iremos pegar o restaurante que está há mais tempo\n",
    "cadastrado na base de dados.\n"
   ]
  },
  {
   "cell_type": "code",
   "execution_count": null,
   "id": "87c4a80a-5d99-49a7-8d58-60998fa6f40f",
   "metadata": {},
   "outputs": [],
   "source": [
    "cols = ['restaurant_id', 'restaurant_name', 'cuisines', 'aggregate_rating']\n",
    "cuisine_italian = df['cuisines'] == 'Home-made'\n",
    "restaurant_min_rating = df.loc[cuisine_italian, cols].sort_values(by='restaurant_id')\n",
    "restaurant_min_rating"
   ]
  },
  {
   "cell_type": "markdown",
   "id": "54a64a19-dd09-4465-9c6b-270d99498923",
   "metadata": {
    "jp-MarkdownHeadingCollapsed": true,
    "tags": []
   },
   "source": [
    "### 11. Qual o tipo de culinária que possui o maior valor médio de um prato para duas pessoas?"
   ]
  },
  {
   "cell_type": "code",
   "execution_count": 19,
   "id": "342aef00-5945-41ac-a180-5344bb3db60b",
   "metadata": {},
   "outputs": [
    {
     "data": {
      "text/html": [
       "<div>\n",
       "<style scoped>\n",
       "    .dataframe tbody tr th:only-of-type {\n",
       "        vertical-align: middle;\n",
       "    }\n",
       "\n",
       "    .dataframe tbody tr th {\n",
       "        vertical-align: top;\n",
       "    }\n",
       "\n",
       "    .dataframe thead th {\n",
       "        text-align: right;\n",
       "    }\n",
       "</style>\n",
       "<table border=\"1\" class=\"dataframe\">\n",
       "  <thead>\n",
       "    <tr style=\"text-align: right;\">\n",
       "      <th></th>\n",
       "      <th>cuisines</th>\n",
       "      <th>price_in_dollar</th>\n",
       "    </tr>\n",
       "  </thead>\n",
       "  <tbody>\n",
       "    <tr>\n",
       "      <th>0</th>\n",
       "      <td>Continental</td>\n",
       "      <td>755</td>\n",
       "    </tr>\n",
       "    <tr>\n",
       "      <th>1</th>\n",
       "      <td>New American</td>\n",
       "      <td>650</td>\n",
       "    </tr>\n",
       "    <tr>\n",
       "      <th>2</th>\n",
       "      <td>French</td>\n",
       "      <td>600</td>\n",
       "    </tr>\n",
       "    <tr>\n",
       "      <th>3</th>\n",
       "      <td>European</td>\n",
       "      <td>467</td>\n",
       "    </tr>\n",
       "    <tr>\n",
       "      <th>4</th>\n",
       "      <td>Italian</td>\n",
       "      <td>440</td>\n",
       "    </tr>\n",
       "    <tr>\n",
       "      <th>...</th>\n",
       "      <td>...</td>\n",
       "      <td>...</td>\n",
       "    </tr>\n",
       "    <tr>\n",
       "      <th>160</th>\n",
       "      <td>Turkish Pizza</td>\n",
       "      <td>3</td>\n",
       "    </tr>\n",
       "    <tr>\n",
       "      <th>161</th>\n",
       "      <td>Kokoreç</td>\n",
       "      <td>3</td>\n",
       "    </tr>\n",
       "    <tr>\n",
       "      <th>162</th>\n",
       "      <td>Kumpir</td>\n",
       "      <td>3</td>\n",
       "    </tr>\n",
       "    <tr>\n",
       "      <th>163</th>\n",
       "      <td>Ottoman</td>\n",
       "      <td>2</td>\n",
       "    </tr>\n",
       "    <tr>\n",
       "      <th>164</th>\n",
       "      <td>Mineira</td>\n",
       "      <td>0</td>\n",
       "    </tr>\n",
       "  </tbody>\n",
       "</table>\n",
       "<p>165 rows × 2 columns</p>\n",
       "</div>"
      ],
      "text/plain": [
       "          cuisines  price_in_dollar\n",
       "0      Continental              755\n",
       "1     New American              650\n",
       "2           French              600\n",
       "3         European              467\n",
       "4          Italian              440\n",
       "..             ...              ...\n",
       "160  Turkish Pizza                3\n",
       "161        Kokoreç                3\n",
       "162         Kumpir                3\n",
       "163        Ottoman                2\n",
       "164        Mineira                0\n",
       "\n",
       "[165 rows x 2 columns]"
      ]
     },
     "execution_count": 19,
     "metadata": {},
     "output_type": "execute_result"
    }
   ],
   "source": [
    "cols = ['cuisines', 'price_in_dollar']\n",
    "cuisine_for_two = df.loc[:, cols].groupby('cuisines').max().sort_values(by='price_in_dollar', ascending=False).reset_index()\n",
    "cuisine_for_two"
   ]
  },
  {
   "cell_type": "markdown",
   "id": "45e1ed55-673a-47cd-9435-f12e71ba6311",
   "metadata": {
    "jp-MarkdownHeadingCollapsed": true,
    "tags": []
   },
   "source": [
    "\n",
    "### 12. Qual o tipo de culinária que possui a maior nota média?"
   ]
  },
  {
   "cell_type": "code",
   "execution_count": 37,
   "id": "4deff542-338b-423b-a543-36a7a464ca83",
   "metadata": {},
   "outputs": [
    {
     "data": {
      "text/html": [
       "<div>\n",
       "<style scoped>\n",
       "    .dataframe tbody tr th:only-of-type {\n",
       "        vertical-align: middle;\n",
       "    }\n",
       "\n",
       "    .dataframe tbody tr th {\n",
       "        vertical-align: top;\n",
       "    }\n",
       "\n",
       "    .dataframe thead th {\n",
       "        text-align: right;\n",
       "    }\n",
       "</style>\n",
       "<table border=\"1\" class=\"dataframe\">\n",
       "  <thead>\n",
       "    <tr style=\"text-align: right;\">\n",
       "      <th></th>\n",
       "      <th>cuisines</th>\n",
       "      <th>aggregate_rating</th>\n",
       "    </tr>\n",
       "  </thead>\n",
       "  <tbody>\n",
       "    <tr>\n",
       "      <th>0</th>\n",
       "      <td>Indian</td>\n",
       "      <td>5</td>\n",
       "    </tr>\n",
       "    <tr>\n",
       "      <th>1</th>\n",
       "      <td>Greek</td>\n",
       "      <td>5</td>\n",
       "    </tr>\n",
       "    <tr>\n",
       "      <th>2</th>\n",
       "      <td>Korean</td>\n",
       "      <td>5</td>\n",
       "    </tr>\n",
       "    <tr>\n",
       "      <th>3</th>\n",
       "      <td>Tapas</td>\n",
       "      <td>5</td>\n",
       "    </tr>\n",
       "    <tr>\n",
       "      <th>4</th>\n",
       "      <td>Japanese</td>\n",
       "      <td>5</td>\n",
       "    </tr>\n",
       "    <tr>\n",
       "      <th>...</th>\n",
       "      <td>...</td>\n",
       "      <td>...</td>\n",
       "    </tr>\n",
       "    <tr>\n",
       "      <th>160</th>\n",
       "      <td>Cantonese</td>\n",
       "      <td>3</td>\n",
       "    </tr>\n",
       "    <tr>\n",
       "      <th>161</th>\n",
       "      <td>Armenian</td>\n",
       "      <td>3</td>\n",
       "    </tr>\n",
       "    <tr>\n",
       "      <th>162</th>\n",
       "      <td>Durban</td>\n",
       "      <td>3</td>\n",
       "    </tr>\n",
       "    <tr>\n",
       "      <th>163</th>\n",
       "      <td>Mineira</td>\n",
       "      <td>0</td>\n",
       "    </tr>\n",
       "    <tr>\n",
       "      <th>164</th>\n",
       "      <td>Drinks Only</td>\n",
       "      <td>0</td>\n",
       "    </tr>\n",
       "  </tbody>\n",
       "</table>\n",
       "<p>165 rows × 2 columns</p>\n",
       "</div>"
      ],
      "text/plain": [
       "        cuisines  aggregate_rating\n",
       "0         Indian                 5\n",
       "1          Greek                 5\n",
       "2         Korean                 5\n",
       "3          Tapas                 5\n",
       "4       Japanese                 5\n",
       "..           ...               ...\n",
       "160    Cantonese                 3\n",
       "161     Armenian                 3\n",
       "162       Durban                 3\n",
       "163      Mineira                 0\n",
       "164  Drinks Only                 0\n",
       "\n",
       "[165 rows x 2 columns]"
      ]
     },
     "execution_count": 37,
     "metadata": {},
     "output_type": "execute_result"
    }
   ],
   "source": [
    "cols = ['cuisines', 'aggregate_rating']\n",
    "cuisine_max_mean = df.loc[:, cols].groupby('cuisines').max().sort_values(by='aggregate_rating', ascending=False).reset_index()\n",
    "cuisine_max_mean"
   ]
  },
  {
   "cell_type": "markdown",
   "id": "6949835c-ef75-45be-8a1e-a38fcd34653f",
   "metadata": {
    "jp-MarkdownHeadingCollapsed": true,
    "tags": []
   },
   "source": [
    "### 13. Qual o tipo de culinária que possui mais restaurantes que aceitam pedidos online e fazem entregas?"
   ]
  },
  {
   "cell_type": "code",
   "execution_count": null,
   "id": "5a6524ff-6655-4e07-928d-616372154f62",
   "metadata": {},
   "outputs": [],
   "source": [
    "cols = ['cuisines', 'has_online_delivery', 'is_delivering_now']\n",
    "filter_cuisine = (df['has_online_delivery'] == 1) & (df['is_delivering_now'] == 1)\n",
    "cuisines_delivery = (df.loc[filter_cuisine, cols].groupby('cuisines')\n",
    "                            .count()\n",
    "                            .sort_values(by=['has_online_delivery', 'is_delivering_now'], ascending=False)\n",
    "                            .reset_index())\n",
    "cuisines_delivery"
   ]
  }
 ],
 "metadata": {
  "kernelspec": {
   "display_name": "Python 3 (ipykernel)",
   "language": "python",
   "name": "python3"
  },
  "language_info": {
   "codemirror_mode": {
    "name": "ipython",
    "version": 3
   },
   "file_extension": ".py",
   "mimetype": "text/x-python",
   "name": "python",
   "nbconvert_exporter": "python",
   "pygments_lexer": "ipython3",
   "version": "3.8.15"
  },
  "toc-autonumbering": false,
  "toc-showcode": false,
  "toc-showmarkdowntxt": true,
  "widgets": {
   "application/vnd.jupyter.widget-state+json": {
    "state": {},
    "version_major": 2,
    "version_minor": 0
   }
  }
 },
 "nbformat": 4,
 "nbformat_minor": 5
}
